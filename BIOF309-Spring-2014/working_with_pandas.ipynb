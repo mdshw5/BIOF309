{
 "metadata": {
  "celltoolbar": "Slideshow",
  "name": "",
  "signature": "sha256:2d51abac5dfe3ebc168e3250902e7aa89f3bb5d69e41a528d4a99a2e8b65a643"
 },
 "nbformat": 3,
 "nbformat_minor": 0,
 "worksheets": [
  {
   "cells": [
    {
     "cell_type": "code",
     "collapsed": false,
     "input": [
      "%matplotlib inline"
     ],
     "language": "python",
     "metadata": {
      "slideshow": {
       "slide_type": "skip"
      }
     },
     "outputs": [],
     "prompt_number": 119
    },
    {
     "cell_type": "markdown",
     "metadata": {
      "slideshow": {
       "slide_type": "slide"
      }
     },
     "source": [
      "#Working with Pandas:\n",
      "##Python data analysis library\n",
      "###Matt Shirley\n",
      "####May 1 2014"
     ]
    },
    {
     "cell_type": "markdown",
     "metadata": {
      "slideshow": {
       "slide_type": "slide"
      }
     },
     "source": [
      "##Overview\n",
      "1. What is (are?) Pandas\n",
      "1. Pandas Series & Dataframe\n",
      "2. Reading data from CSV\n",
      "3. (RE)indexing your data\n",
      "4. Using Pandas to plot your data"
     ]
    },
    {
     "cell_type": "markdown",
     "metadata": {
      "slideshow": {
       "slide_type": "slide"
      }
     },
     "source": [
      "##What is Pandas?\n",
      "- Pandas: **Pa**nel **Da**ta **S**ystem\n",
      "- Pandas provides tools for:\n",
      "  - Cleaning data\n",
      "  - Analyzing data\n",
      "  - Simple regression of data\n",
      "  - Ploting data\n",
      "- Data in Pandas are organized in table-like structures\n",
      "- Pandas is built on Numpy as a datastructure backend"
     ]
    },
    {
     "cell_type": "markdown",
     "metadata": {
      "slideshow": {
       "slide_type": "subslide"
      }
     },
     "source": [
      "##What is Pandas?\n",
      "- Pandas allows creation of indexed two-dimensional arrays\n",
      "- Similar to `dataframe` object in R language\n",
      "- Basic building block is a `Series`\n",
      "  - dictionary-like object with an index\n",
      "- `Series` objects are combined as columns to produce a `DataFrame`\n",
      "- `DataFrame` is an indexed, named two-dimensional array\n",
      "  - think of it like an Excel workbook"
     ]
    },
    {
     "cell_type": "markdown",
     "metadata": {
      "slideshow": {
       "slide_type": "subslide"
      }
     },
     "source": [
      "##Installation\n",
      "\n",
      "`pip install pandas` or `conda install pandas`"
     ]
    },
    {
     "cell_type": "markdown",
     "metadata": {
      "slideshow": {
       "slide_type": "slide"
      }
     },
     "source": [
      "##Pandas"
     ]
    },
    {
     "cell_type": "code",
     "collapsed": false,
     "input": [
      "from pandas import Series, DataFrame"
     ],
     "language": "python",
     "metadata": {
      "slideshow": {
       "slide_type": "subslide"
      }
     },
     "outputs": [],
     "prompt_number": 120
    },
    {
     "cell_type": "markdown",
     "metadata": {
      "slideshow": {
       "slide_type": "fragment"
      }
     },
     "source": [
      "Recipe for a `Series`:  \n",
      "`s = Series(data, index=index)`\n",
      "- data can be a `dict` or a numpy `ndarray`"
     ]
    },
    {
     "cell_type": "code",
     "collapsed": false,
     "input": [
      "fruits = {'red': 'apple',\n",
      "          'yellow': 'banana',\n",
      "          'green': 'kiwi',\n",
      "          'purple': 'grape'}\n",
      "series_fruits = Series(fruits, index=['red', 'yellow', 'green', 'purple'])\n",
      "series_fruits"
     ],
     "language": "python",
     "metadata": {
      "slideshow": {
       "slide_type": "fragment"
      }
     },
     "outputs": [
      {
       "metadata": {},
       "output_type": "pyout",
       "prompt_number": 121,
       "text": [
        "red        apple\n",
        "yellow    banana\n",
        "green       kiwi\n",
        "purple     grape\n",
        "dtype: object"
       ]
      }
     ],
     "prompt_number": 121
    },
    {
     "cell_type": "markdown",
     "metadata": {
      "slideshow": {
       "slide_type": "subslide"
      }
     },
     "source": [
      "Series are like `list` and `dict`:"
     ]
    },
    {
     "cell_type": "code",
     "collapsed": false,
     "input": [
      "series_fruits[:2]"
     ],
     "language": "python",
     "metadata": {
      "slideshow": {
       "slide_type": "fragment"
      }
     },
     "outputs": [
      {
       "metadata": {},
       "output_type": "pyout",
       "prompt_number": 122,
       "text": [
        "red        apple\n",
        "yellow    banana\n",
        "dtype: object"
       ]
      }
     ],
     "prompt_number": 122
    },
    {
     "cell_type": "code",
     "collapsed": false,
     "input": [
      "series_fruits['red']"
     ],
     "language": "python",
     "metadata": {
      "slideshow": {
       "slide_type": "fragment"
      }
     },
     "outputs": [
      {
       "metadata": {},
       "output_type": "pyout",
       "prompt_number": 123,
       "text": [
        "'apple'"
       ]
      }
     ],
     "prompt_number": 123
    },
    {
     "cell_type": "code",
     "collapsed": false,
     "input": [
      "try:\n",
      "    series_fruits['orange']\n",
      "except KeyError:\n",
      "    print('Key does not exist!')"
     ],
     "language": "python",
     "metadata": {
      "slideshow": {
       "slide_type": "fragment"
      }
     },
     "outputs": [
      {
       "output_type": "stream",
       "stream": "stdout",
       "text": [
        "Key does not exist!\n"
       ]
      }
     ],
     "prompt_number": 124
    },
    {
     "cell_type": "markdown",
     "metadata": {
      "slideshow": {
       "slide_type": "subslide"
      }
     },
     "source": [
      "Series with numeric content can be treated like a Numpy `ndarray`:"
     ]
    },
    {
     "cell_type": "code",
     "collapsed": false,
     "input": [
      "from string import ascii_letters\n",
      "from numpy.random import randn\n",
      "numbers = Series(randn(10), index=tuple(ascii_letters[:10]))"
     ],
     "language": "python",
     "metadata": {
      "slideshow": {
       "slide_type": "fragment"
      }
     },
     "outputs": [],
     "prompt_number": 125
    },
    {
     "cell_type": "code",
     "collapsed": false,
     "input": [
      "numbers"
     ],
     "language": "python",
     "metadata": {
      "slideshow": {
       "slide_type": "fragment"
      }
     },
     "outputs": [
      {
       "metadata": {},
       "output_type": "pyout",
       "prompt_number": 126,
       "text": [
        "a   -0.031160\n",
        "b    1.301435\n",
        "c    2.039165\n",
        "d   -0.232808\n",
        "e   -0.899883\n",
        "f    0.465924\n",
        "g   -0.233621\n",
        "h   -0.422786\n",
        "i    0.231951\n",
        "j   -0.400064\n",
        "dtype: float64"
       ]
      }
     ],
     "prompt_number": 126
    },
    {
     "cell_type": "code",
     "collapsed": false,
     "input": [
      "numbers + numbers"
     ],
     "language": "python",
     "metadata": {
      "slideshow": {
       "slide_type": "fragment"
      }
     },
     "outputs": [
      {
       "metadata": {},
       "output_type": "pyout",
       "prompt_number": 127,
       "text": [
        "a   -0.062319\n",
        "b    2.602870\n",
        "c    4.078330\n",
        "d   -0.465616\n",
        "e   -1.799765\n",
        "f    0.931847\n",
        "g   -0.467242\n",
        "h   -0.845571\n",
        "i    0.463902\n",
        "j   -0.800128\n",
        "dtype: float64"
       ]
      }
     ],
     "prompt_number": 127
    },
    {
     "cell_type": "code",
     "collapsed": false,
     "input": [
      "numbers*4"
     ],
     "language": "python",
     "metadata": {
      "slideshow": {
       "slide_type": "subslide"
      }
     },
     "outputs": [
      {
       "metadata": {},
       "output_type": "pyout",
       "prompt_number": 128,
       "text": [
        "a   -0.124638\n",
        "b    5.205740\n",
        "c    8.156660\n",
        "d   -0.931233\n",
        "e   -3.599530\n",
        "f    1.863695\n",
        "g   -0.934484\n",
        "h   -1.691143\n",
        "i    0.927804\n",
        "j   -1.600255\n",
        "dtype: float64"
       ]
      }
     ],
     "prompt_number": 128
    },
    {
     "cell_type": "code",
     "collapsed": false,
     "input": [
      "numbers**2"
     ],
     "language": "python",
     "metadata": {
      "slideshow": {
       "slide_type": "fragment"
      }
     },
     "outputs": [
      {
       "metadata": {},
       "output_type": "pyout",
       "prompt_number": 129,
       "text": [
        "a    0.000971\n",
        "b    1.693733\n",
        "c    4.158194\n",
        "d    0.054200\n",
        "e    0.809789\n",
        "f    0.217085\n",
        "g    0.054579\n",
        "h    0.178748\n",
        "i    0.053801\n",
        "j    0.160051\n",
        "dtype: float64"
       ]
      }
     ],
     "prompt_number": 129
    },
    {
     "cell_type": "code",
     "collapsed": false,
     "input": [
      "numbers.sum()"
     ],
     "language": "python",
     "metadata": {
      "slideshow": {
       "slide_type": "subslide"
      }
     },
     "outputs": [
      {
       "metadata": {},
       "output_type": "pyout",
       "prompt_number": 130,
       "text": [
        "1.818153908972731"
       ]
      }
     ],
     "prompt_number": 130
    },
    {
     "cell_type": "code",
     "collapsed": false,
     "input": [
      "numbers.describe()"
     ],
     "language": "python",
     "metadata": {
      "slideshow": {
       "slide_type": "fragment"
      }
     },
     "outputs": [
      {
       "metadata": {},
       "output_type": "pyout",
       "prompt_number": 131,
       "text": [
        "count    10.000000\n",
        "mean      0.181815\n",
        "std       0.885098\n",
        "min      -0.899883\n",
        "25%      -0.358453\n",
        "50%      -0.131984\n",
        "75%       0.407431\n",
        "max       2.039165\n",
        "dtype: float64"
       ]
      }
     ],
     "prompt_number": 131
    },
    {
     "cell_type": "code",
     "collapsed": false,
     "input": [
      "veg = {'red': 'tomato',\n",
      "          'yellow': 'squash',\n",
      "          'purple': 'eggplant'}\n",
      "series_veg = Series(veg, index=['red', 'yellow', 'purple'])\n",
      "series_veg"
     ],
     "language": "python",
     "metadata": {
      "slideshow": {
       "slide_type": "subslide"
      }
     },
     "outputs": [
      {
       "metadata": {},
       "output_type": "pyout",
       "prompt_number": 132,
       "text": [
        "red         tomato\n",
        "yellow      squash\n",
        "purple    eggplant\n",
        "dtype: object"
       ]
      }
     ],
     "prompt_number": 132
    },
    {
     "cell_type": "markdown",
     "metadata": {
      "slideshow": {
       "slide_type": "fragment"
      }
     },
     "source": [
      "Combine `Series` instances to make a `DataFrame`:"
     ]
    },
    {
     "cell_type": "code",
     "collapsed": false,
     "input": [
      "produce = DataFrame({'fruits': series_fruits, 'vegetables': series_veg})\n",
      "produce"
     ],
     "language": "python",
     "metadata": {
      "slideshow": {
       "slide_type": "fragment"
      }
     },
     "outputs": [
      {
       "html": [
        "<div style=\"max-height:1000px;max-width:1500px;overflow:auto;\">\n",
        "<table border=\"1\" class=\"dataframe\">\n",
        "  <thead>\n",
        "    <tr style=\"text-align: right;\">\n",
        "      <th></th>\n",
        "      <th>fruits</th>\n",
        "      <th>vegetables</th>\n",
        "    </tr>\n",
        "  </thead>\n",
        "  <tbody>\n",
        "    <tr>\n",
        "      <th>green</th>\n",
        "      <td>   kiwi</td>\n",
        "      <td>      NaN</td>\n",
        "    </tr>\n",
        "    <tr>\n",
        "      <th>purple</th>\n",
        "      <td>  grape</td>\n",
        "      <td> eggplant</td>\n",
        "    </tr>\n",
        "    <tr>\n",
        "      <th>red</th>\n",
        "      <td>  apple</td>\n",
        "      <td>   tomato</td>\n",
        "    </tr>\n",
        "    <tr>\n",
        "      <th>yellow</th>\n",
        "      <td> banana</td>\n",
        "      <td>   squash</td>\n",
        "    </tr>\n",
        "  </tbody>\n",
        "</table>\n",
        "<p>4 rows \u00d7 2 columns</p>\n",
        "</div>"
       ],
       "metadata": {},
       "output_type": "pyout",
       "prompt_number": 133,
       "text": [
        "        fruits vegetables\n",
        "green     kiwi        NaN\n",
        "purple   grape   eggplant\n",
        "red      apple     tomato\n",
        "yellow  banana     squash\n",
        "\n",
        "[4 rows x 2 columns]"
       ]
      }
     ],
     "prompt_number": 133
    },
    {
     "cell_type": "markdown",
     "metadata": {
      "slideshow": {
       "slide_type": "fragment"
      }
     },
     "source": [
      "- You'll notice that Pandas `DataFrame` handles the missing 'green' vegetable by substituting `NaN`.\n",
      "- `NaN`, \"not a number\" is a stand-in for missingness\n",
      "- `NaN` is excluded from operations performed on a dataframe\n",
      "  - for example, missing numbers would be excluded from a column sum or mean"
     ]
    },
    {
     "cell_type": "code",
     "collapsed": false,
     "input": [
      "produce.dropna()"
     ],
     "language": "python",
     "metadata": {
      "slideshow": {
       "slide_type": "subslide"
      }
     },
     "outputs": [
      {
       "html": [
        "<div style=\"max-height:1000px;max-width:1500px;overflow:auto;\">\n",
        "<table border=\"1\" class=\"dataframe\">\n",
        "  <thead>\n",
        "    <tr style=\"text-align: right;\">\n",
        "      <th></th>\n",
        "      <th>fruits</th>\n",
        "      <th>vegetables</th>\n",
        "    </tr>\n",
        "  </thead>\n",
        "  <tbody>\n",
        "    <tr>\n",
        "      <th>purple</th>\n",
        "      <td>  grape</td>\n",
        "      <td> eggplant</td>\n",
        "    </tr>\n",
        "    <tr>\n",
        "      <th>red</th>\n",
        "      <td>  apple</td>\n",
        "      <td>   tomato</td>\n",
        "    </tr>\n",
        "    <tr>\n",
        "      <th>yellow</th>\n",
        "      <td> banana</td>\n",
        "      <td>   squash</td>\n",
        "    </tr>\n",
        "  </tbody>\n",
        "</table>\n",
        "<p>3 rows \u00d7 2 columns</p>\n",
        "</div>"
       ],
       "metadata": {},
       "output_type": "pyout",
       "prompt_number": 134,
       "text": [
        "        fruits vegetables\n",
        "purple   grape   eggplant\n",
        "red      apple     tomato\n",
        "yellow  banana     squash\n",
        "\n",
        "[3 rows x 2 columns]"
       ]
      }
     ],
     "prompt_number": 134
    },
    {
     "cell_type": "code",
     "collapsed": false,
     "input": [
      "produce.fillna('brocolli')"
     ],
     "language": "python",
     "metadata": {
      "slideshow": {
       "slide_type": "fragment"
      }
     },
     "outputs": [
      {
       "html": [
        "<div style=\"max-height:1000px;max-width:1500px;overflow:auto;\">\n",
        "<table border=\"1\" class=\"dataframe\">\n",
        "  <thead>\n",
        "    <tr style=\"text-align: right;\">\n",
        "      <th></th>\n",
        "      <th>fruits</th>\n",
        "      <th>vegetables</th>\n",
        "    </tr>\n",
        "  </thead>\n",
        "  <tbody>\n",
        "    <tr>\n",
        "      <th>green</th>\n",
        "      <td>   kiwi</td>\n",
        "      <td> brocolli</td>\n",
        "    </tr>\n",
        "    <tr>\n",
        "      <th>purple</th>\n",
        "      <td>  grape</td>\n",
        "      <td> eggplant</td>\n",
        "    </tr>\n",
        "    <tr>\n",
        "      <th>red</th>\n",
        "      <td>  apple</td>\n",
        "      <td>   tomato</td>\n",
        "    </tr>\n",
        "    <tr>\n",
        "      <th>yellow</th>\n",
        "      <td> banana</td>\n",
        "      <td>   squash</td>\n",
        "    </tr>\n",
        "  </tbody>\n",
        "</table>\n",
        "<p>4 rows \u00d7 2 columns</p>\n",
        "</div>"
       ],
       "metadata": {},
       "output_type": "pyout",
       "prompt_number": 135,
       "text": [
        "        fruits vegetables\n",
        "green     kiwi   brocolli\n",
        "purple   grape   eggplant\n",
        "red      apple     tomato\n",
        "yellow  banana     squash\n",
        "\n",
        "[4 rows x 2 columns]"
       ]
      }
     ],
     "prompt_number": 135
    },
    {
     "cell_type": "code",
     "collapsed": false,
     "input": [
      "produce.fillna(method='ffill')"
     ],
     "language": "python",
     "metadata": {
      "slideshow": {
       "slide_type": "subslide"
      }
     },
     "outputs": [
      {
       "html": [
        "<div style=\"max-height:1000px;max-width:1500px;overflow:auto;\">\n",
        "<table border=\"1\" class=\"dataframe\">\n",
        "  <thead>\n",
        "    <tr style=\"text-align: right;\">\n",
        "      <th></th>\n",
        "      <th>fruits</th>\n",
        "      <th>vegetables</th>\n",
        "    </tr>\n",
        "  </thead>\n",
        "  <tbody>\n",
        "    <tr>\n",
        "      <th>green</th>\n",
        "      <td>   kiwi</td>\n",
        "      <td>      NaN</td>\n",
        "    </tr>\n",
        "    <tr>\n",
        "      <th>purple</th>\n",
        "      <td>  grape</td>\n",
        "      <td> eggplant</td>\n",
        "    </tr>\n",
        "    <tr>\n",
        "      <th>red</th>\n",
        "      <td>  apple</td>\n",
        "      <td>   tomato</td>\n",
        "    </tr>\n",
        "    <tr>\n",
        "      <th>yellow</th>\n",
        "      <td> banana</td>\n",
        "      <td>   squash</td>\n",
        "    </tr>\n",
        "  </tbody>\n",
        "</table>\n",
        "<p>4 rows \u00d7 2 columns</p>\n",
        "</div>"
       ],
       "metadata": {},
       "output_type": "pyout",
       "prompt_number": 136,
       "text": [
        "        fruits vegetables\n",
        "green     kiwi        NaN\n",
        "purple   grape   eggplant\n",
        "red      apple     tomato\n",
        "yellow  banana     squash\n",
        "\n",
        "[4 rows x 2 columns]"
       ]
      }
     ],
     "prompt_number": 136
    },
    {
     "cell_type": "code",
     "collapsed": false,
     "input": [
      "produce.unstack()"
     ],
     "language": "python",
     "metadata": {
      "slideshow": {
       "slide_type": "fragment"
      }
     },
     "outputs": [
      {
       "metadata": {},
       "output_type": "pyout",
       "prompt_number": 198,
       "text": [
        "fruits      green         kiwi\n",
        "            purple       grape\n",
        "            red          apple\n",
        "            yellow      banana\n",
        "vegetables  green          NaN\n",
        "            purple    eggplant\n",
        "            red         tomato\n",
        "            yellow      squash\n",
        "dtype: object"
       ]
      }
     ],
     "prompt_number": 198
    },
    {
     "cell_type": "code",
     "collapsed": false,
     "input": [
      "produce.reindex(['yellow', 'red', 'purple', 'green'])"
     ],
     "language": "python",
     "metadata": {
      "slideshow": {
       "slide_type": "subslide"
      }
     },
     "outputs": [
      {
       "html": [
        "<div style=\"max-height:1000px;max-width:1500px;overflow:auto;\">\n",
        "<table border=\"1\" class=\"dataframe\">\n",
        "  <thead>\n",
        "    <tr style=\"text-align: right;\">\n",
        "      <th></th>\n",
        "      <th>fruits</th>\n",
        "      <th>vegetables</th>\n",
        "    </tr>\n",
        "  </thead>\n",
        "  <tbody>\n",
        "    <tr>\n",
        "      <th>yellow</th>\n",
        "      <td> banana</td>\n",
        "      <td>   squash</td>\n",
        "    </tr>\n",
        "    <tr>\n",
        "      <th>red</th>\n",
        "      <td>  apple</td>\n",
        "      <td>   tomato</td>\n",
        "    </tr>\n",
        "    <tr>\n",
        "      <th>purple</th>\n",
        "      <td>  grape</td>\n",
        "      <td> eggplant</td>\n",
        "    </tr>\n",
        "    <tr>\n",
        "      <th>green</th>\n",
        "      <td>   kiwi</td>\n",
        "      <td>      NaN</td>\n",
        "    </tr>\n",
        "  </tbody>\n",
        "</table>\n",
        "<p>4 rows \u00d7 2 columns</p>\n",
        "</div>"
       ],
       "metadata": {},
       "output_type": "pyout",
       "prompt_number": 199,
       "text": [
        "        fruits vegetables\n",
        "yellow  banana     squash\n",
        "red      apple     tomato\n",
        "purple   grape   eggplant\n",
        "green     kiwi        NaN\n",
        "\n",
        "[4 rows x 2 columns]"
       ]
      }
     ],
     "prompt_number": 199
    },
    {
     "cell_type": "code",
     "collapsed": false,
     "input": [
      "from pandas import read_csv\n",
      "\n",
      "movies = read_csv('movies.csv')\n",
      "movies.head()"
     ],
     "language": "python",
     "metadata": {
      "slideshow": {
       "slide_type": "subslide"
      }
     },
     "outputs": [
      {
       "html": [
        "<div style=\"max-height:1000px;max-width:1500px;overflow:auto;\">\n",
        "<table border=\"1\" class=\"dataframe\">\n",
        "  <thead>\n",
        "    <tr style=\"text-align: right;\">\n",
        "      <th></th>\n",
        "      <th>title</th>\n",
        "      <th>year</th>\n",
        "      <th>length</th>\n",
        "      <th>budget</th>\n",
        "      <th>rating</th>\n",
        "      <th>votes</th>\n",
        "      <th>r1</th>\n",
        "      <th>r2</th>\n",
        "      <th>r3</th>\n",
        "      <th>r4</th>\n",
        "      <th>r5</th>\n",
        "      <th>r6</th>\n",
        "      <th>r7</th>\n",
        "      <th>r8</th>\n",
        "      <th>r9</th>\n",
        "      <th>r10</th>\n",
        "      <th>mpaa</th>\n",
        "      <th>Action</th>\n",
        "      <th>Animation</th>\n",
        "      <th>Comedy</th>\n",
        "      <th></th>\n",
        "    </tr>\n",
        "  </thead>\n",
        "  <tbody>\n",
        "    <tr>\n",
        "      <th>0</th>\n",
        "      <td>                        $</td>\n",
        "      <td> 1971</td>\n",
        "      <td> 121</td>\n",
        "      <td>NaN</td>\n",
        "      <td> 6.4</td>\n",
        "      <td> 348</td>\n",
        "      <td>  4.5</td>\n",
        "      <td>  4.5</td>\n",
        "      <td> 4.5</td>\n",
        "      <td>  4.5</td>\n",
        "      <td> 14.5</td>\n",
        "      <td> 24.5</td>\n",
        "      <td> 24.5</td>\n",
        "      <td> 14.5</td>\n",
        "      <td>  4.5</td>\n",
        "      <td>  4.5</td>\n",
        "      <td> NaN</td>\n",
        "      <td> 0</td>\n",
        "      <td> 0</td>\n",
        "      <td> 1</td>\n",
        "      <td>...</td>\n",
        "    </tr>\n",
        "    <tr>\n",
        "      <th>1</th>\n",
        "      <td>        $1000 a Touchdown</td>\n",
        "      <td> 1939</td>\n",
        "      <td>  71</td>\n",
        "      <td>NaN</td>\n",
        "      <td> 6.0</td>\n",
        "      <td>  20</td>\n",
        "      <td>  0.0</td>\n",
        "      <td> 14.5</td>\n",
        "      <td> 4.5</td>\n",
        "      <td> 24.5</td>\n",
        "      <td> 14.5</td>\n",
        "      <td> 14.5</td>\n",
        "      <td> 14.5</td>\n",
        "      <td>  4.5</td>\n",
        "      <td>  4.5</td>\n",
        "      <td> 14.5</td>\n",
        "      <td> NaN</td>\n",
        "      <td> 0</td>\n",
        "      <td> 0</td>\n",
        "      <td> 1</td>\n",
        "      <td>...</td>\n",
        "    </tr>\n",
        "    <tr>\n",
        "      <th>2</th>\n",
        "      <td>   $21 a Day Once a Month</td>\n",
        "      <td> 1941</td>\n",
        "      <td>   7</td>\n",
        "      <td>NaN</td>\n",
        "      <td> 8.2</td>\n",
        "      <td>   5</td>\n",
        "      <td>  0.0</td>\n",
        "      <td>  0.0</td>\n",
        "      <td> 0.0</td>\n",
        "      <td>  0.0</td>\n",
        "      <td>  0.0</td>\n",
        "      <td> 24.5</td>\n",
        "      <td>  0.0</td>\n",
        "      <td> 44.5</td>\n",
        "      <td> 24.5</td>\n",
        "      <td> 24.5</td>\n",
        "      <td> NaN</td>\n",
        "      <td> 0</td>\n",
        "      <td> 1</td>\n",
        "      <td> 0</td>\n",
        "      <td>...</td>\n",
        "    </tr>\n",
        "    <tr>\n",
        "      <th>3</th>\n",
        "      <td>                  $40,000</td>\n",
        "      <td> 1996</td>\n",
        "      <td>  70</td>\n",
        "      <td>NaN</td>\n",
        "      <td> 8.2</td>\n",
        "      <td>   6</td>\n",
        "      <td> 14.5</td>\n",
        "      <td>  0.0</td>\n",
        "      <td> 0.0</td>\n",
        "      <td>  0.0</td>\n",
        "      <td>  0.0</td>\n",
        "      <td>  0.0</td>\n",
        "      <td>  0.0</td>\n",
        "      <td>  0.0</td>\n",
        "      <td> 34.5</td>\n",
        "      <td> 45.5</td>\n",
        "      <td> NaN</td>\n",
        "      <td> 0</td>\n",
        "      <td> 0</td>\n",
        "      <td> 1</td>\n",
        "      <td>...</td>\n",
        "    </tr>\n",
        "    <tr>\n",
        "      <th>4</th>\n",
        "      <td> $50,000 Climax Show, The</td>\n",
        "      <td> 1975</td>\n",
        "      <td>  71</td>\n",
        "      <td>NaN</td>\n",
        "      <td> 3.4</td>\n",
        "      <td>  17</td>\n",
        "      <td> 24.5</td>\n",
        "      <td>  4.5</td>\n",
        "      <td> 0.0</td>\n",
        "      <td> 14.5</td>\n",
        "      <td> 14.5</td>\n",
        "      <td>  4.5</td>\n",
        "      <td>  0.0</td>\n",
        "      <td>  0.0</td>\n",
        "      <td>  0.0</td>\n",
        "      <td> 24.5</td>\n",
        "      <td> NaN</td>\n",
        "      <td> 0</td>\n",
        "      <td> 0</td>\n",
        "      <td> 0</td>\n",
        "      <td>...</td>\n",
        "    </tr>\n",
        "  </tbody>\n",
        "</table>\n",
        "<p>5 rows \u00d7 24 columns</p>\n",
        "</div>"
       ],
       "metadata": {},
       "output_type": "pyout",
       "prompt_number": 137,
       "text": [
        "                      title  year  length  budget  rating  votes    r1    r2  \\\n",
        "0                         $  1971     121     NaN     6.4    348   4.5   4.5   \n",
        "1         $1000 a Touchdown  1939      71     NaN     6.0     20   0.0  14.5   \n",
        "2    $21 a Day Once a Month  1941       7     NaN     8.2      5   0.0   0.0   \n",
        "3                   $40,000  1996      70     NaN     8.2      6  14.5   0.0   \n",
        "4  $50,000 Climax Show, The  1975      71     NaN     3.4     17  24.5   4.5   \n",
        "\n",
        "    r3    r4    r5    r6    r7    r8    r9   r10 mpaa  Action  Animation  \\\n",
        "0  4.5   4.5  14.5  24.5  24.5  14.5   4.5   4.5  NaN       0          0   \n",
        "1  4.5  24.5  14.5  14.5  14.5   4.5   4.5  14.5  NaN       0          0   \n",
        "2  0.0   0.0   0.0  24.5   0.0  44.5  24.5  24.5  NaN       0          1   \n",
        "3  0.0   0.0   0.0   0.0   0.0   0.0  34.5  45.5  NaN       0          0   \n",
        "4  0.0  14.5  14.5   4.5   0.0   0.0   0.0  24.5  NaN       0          0   \n",
        "\n",
        "   Comedy      \n",
        "0       1 ...  \n",
        "1       1 ...  \n",
        "2       0 ...  \n",
        "3       1 ...  \n",
        "4       0 ...  \n",
        "\n",
        "[5 rows x 24 columns]"
       ]
      }
     ],
     "prompt_number": 137
    },
    {
     "cell_type": "code",
     "collapsed": false,
     "input": [
      "movies['rating'].mean()"
     ],
     "language": "python",
     "metadata": {
      "slideshow": {
       "slide_type": "fragment"
      }
     },
     "outputs": [
      {
       "metadata": {},
       "output_type": "pyout",
       "prompt_number": 138,
       "text": [
        "5.9328502415459319"
       ]
      }
     ],
     "prompt_number": 138
    },
    {
     "cell_type": "code",
     "collapsed": false,
     "input": [
      "movies['length'].mean()"
     ],
     "language": "python",
     "metadata": {
      "slideshow": {
       "slide_type": "fragment"
      }
     },
     "outputs": [
      {
       "metadata": {},
       "output_type": "pyout",
       "prompt_number": 139,
       "text": [
        "82.33787507654624"
       ]
      }
     ],
     "prompt_number": 139
    },
    {
     "cell_type": "code",
     "collapsed": false,
     "input": [
      "list(movies.columns.values)"
     ],
     "language": "python",
     "metadata": {
      "slideshow": {
       "slide_type": "subslide"
      }
     },
     "outputs": [
      {
       "metadata": {},
       "output_type": "pyout",
       "prompt_number": 189,
       "text": [
        "['title',\n",
        " 'year',\n",
        " 'length',\n",
        " 'budget',\n",
        " 'rating',\n",
        " 'votes',\n",
        " 'r1',\n",
        " 'r2',\n",
        " 'r3',\n",
        " 'r4',\n",
        " 'r5',\n",
        " 'r6',\n",
        " 'r7',\n",
        " 'r8',\n",
        " 'r9',\n",
        " 'r10',\n",
        " 'mpaa',\n",
        " 'Action',\n",
        " 'Animation',\n",
        " 'Comedy',\n",
        " 'Drama',\n",
        " 'Documentary',\n",
        " 'Romance',\n",
        " 'Short']"
       ]
      }
     ],
     "prompt_number": 189
    },
    {
     "cell_type": "code",
     "collapsed": false,
     "input": [
      "movies.describe()"
     ],
     "language": "python",
     "metadata": {
      "slideshow": {
       "slide_type": "subslide"
      }
     },
     "outputs": [
      {
       "html": [
        "<div style=\"max-height:1000px;max-width:1500px;overflow:auto;\">\n",
        "<table border=\"1\" class=\"dataframe\">\n",
        "  <thead>\n",
        "    <tr style=\"text-align: right;\">\n",
        "      <th></th>\n",
        "      <th>year</th>\n",
        "      <th>length</th>\n",
        "      <th>budget</th>\n",
        "      <th>rating</th>\n",
        "      <th>votes</th>\n",
        "      <th>r1</th>\n",
        "      <th>r2</th>\n",
        "      <th>r3</th>\n",
        "      <th>r4</th>\n",
        "      <th>r5</th>\n",
        "      <th>r6</th>\n",
        "      <th>r7</th>\n",
        "      <th>r8</th>\n",
        "      <th>r9</th>\n",
        "      <th>r10</th>\n",
        "      <th>Action</th>\n",
        "      <th>Animation</th>\n",
        "      <th>Comedy</th>\n",
        "      <th>Drama</th>\n",
        "      <th>Documentary</th>\n",
        "      <th></th>\n",
        "    </tr>\n",
        "  </thead>\n",
        "  <tbody>\n",
        "    <tr>\n",
        "      <th>count</th>\n",
        "      <td> 58788.000000</td>\n",
        "      <td> 58788.000000</td>\n",
        "      <td> 5.215000e+03</td>\n",
        "      <td> 58788.000000</td>\n",
        "      <td>  58788.000000</td>\n",
        "      <td> 58788.000000</td>\n",
        "      <td> 58788.000000</td>\n",
        "      <td> 58788.000000</td>\n",
        "      <td> 58788.000000</td>\n",
        "      <td> 58788.000000</td>\n",
        "      <td> 58788.000000</td>\n",
        "      <td> 58788.000000</td>\n",
        "      <td> 58788.000000</td>\n",
        "      <td> 58788.000000</td>\n",
        "      <td> 58788.000000</td>\n",
        "      <td> 58788.000000</td>\n",
        "      <td> 58788.000000</td>\n",
        "      <td> 58788.000000</td>\n",
        "      <td> 58788.000000</td>\n",
        "      <td> 58788.000000</td>\n",
        "      <td>...</td>\n",
        "    </tr>\n",
        "    <tr>\n",
        "      <th>mean</th>\n",
        "      <td>  1976.133582</td>\n",
        "      <td>    82.337875</td>\n",
        "      <td> 1.341251e+07</td>\n",
        "      <td>     5.932850</td>\n",
        "      <td>    632.130384</td>\n",
        "      <td>     7.014382</td>\n",
        "      <td>     4.022377</td>\n",
        "      <td>     4.721159</td>\n",
        "      <td>     6.374847</td>\n",
        "      <td>     9.796693</td>\n",
        "      <td>    13.039158</td>\n",
        "      <td>    15.548088</td>\n",
        "      <td>    13.875995</td>\n",
        "      <td>     8.954208</td>\n",
        "      <td>    16.854018</td>\n",
        "      <td>     0.079744</td>\n",
        "      <td>     0.062768</td>\n",
        "      <td>     0.293784</td>\n",
        "      <td>     0.371011</td>\n",
        "      <td>     0.059060</td>\n",
        "      <td>...</td>\n",
        "    </tr>\n",
        "    <tr>\n",
        "      <th>std</th>\n",
        "      <td>    23.735125</td>\n",
        "      <td>    44.347717</td>\n",
        "      <td> 2.335008e+07</td>\n",
        "      <td>     1.553031</td>\n",
        "      <td>   3829.621413</td>\n",
        "      <td>    10.936759</td>\n",
        "      <td>     5.960056</td>\n",
        "      <td>     6.451629</td>\n",
        "      <td>     7.586141</td>\n",
        "      <td>     9.733612</td>\n",
        "      <td>    10.977600</td>\n",
        "      <td>    11.589577</td>\n",
        "      <td>    11.316963</td>\n",
        "      <td>     9.440597</td>\n",
        "      <td>    15.650722</td>\n",
        "      <td>     0.270899</td>\n",
        "      <td>     0.242547</td>\n",
        "      <td>     0.455498</td>\n",
        "      <td>     0.483080</td>\n",
        "      <td>     0.235738</td>\n",
        "      <td>...</td>\n",
        "    </tr>\n",
        "    <tr>\n",
        "      <th>min</th>\n",
        "      <td>  1893.000000</td>\n",
        "      <td>     1.000000</td>\n",
        "      <td> 0.000000e+00</td>\n",
        "      <td>     1.000000</td>\n",
        "      <td>      5.000000</td>\n",
        "      <td>     0.000000</td>\n",
        "      <td>     0.000000</td>\n",
        "      <td>     0.000000</td>\n",
        "      <td>     0.000000</td>\n",
        "      <td>     0.000000</td>\n",
        "      <td>     0.000000</td>\n",
        "      <td>     0.000000</td>\n",
        "      <td>     0.000000</td>\n",
        "      <td>     0.000000</td>\n",
        "      <td>     0.000000</td>\n",
        "      <td>     0.000000</td>\n",
        "      <td>     0.000000</td>\n",
        "      <td>     0.000000</td>\n",
        "      <td>     0.000000</td>\n",
        "      <td>     0.000000</td>\n",
        "      <td>...</td>\n",
        "    </tr>\n",
        "    <tr>\n",
        "      <th>25%</th>\n",
        "      <td>  1958.000000</td>\n",
        "      <td>    74.000000</td>\n",
        "      <td> 2.500000e+05</td>\n",
        "      <td>     5.000000</td>\n",
        "      <td>     11.000000</td>\n",
        "      <td>     0.000000</td>\n",
        "      <td>     0.000000</td>\n",
        "      <td>     0.000000</td>\n",
        "      <td>     0.000000</td>\n",
        "      <td>     4.500000</td>\n",
        "      <td>     4.500000</td>\n",
        "      <td>     4.500000</td>\n",
        "      <td>     4.500000</td>\n",
        "      <td>     4.500000</td>\n",
        "      <td>     4.500000</td>\n",
        "      <td>     0.000000</td>\n",
        "      <td>     0.000000</td>\n",
        "      <td>     0.000000</td>\n",
        "      <td>     0.000000</td>\n",
        "      <td>     0.000000</td>\n",
        "      <td>...</td>\n",
        "    </tr>\n",
        "    <tr>\n",
        "      <th>50%</th>\n",
        "      <td>  1983.000000</td>\n",
        "      <td>    90.000000</td>\n",
        "      <td> 3.000000e+06</td>\n",
        "      <td>     6.100000</td>\n",
        "      <td>     30.000000</td>\n",
        "      <td>     4.500000</td>\n",
        "      <td>     4.500000</td>\n",
        "      <td>     4.500000</td>\n",
        "      <td>     4.500000</td>\n",
        "      <td>     4.500000</td>\n",
        "      <td>    14.500000</td>\n",
        "      <td>    14.500000</td>\n",
        "      <td>    14.500000</td>\n",
        "      <td>     4.500000</td>\n",
        "      <td>    14.500000</td>\n",
        "      <td>     0.000000</td>\n",
        "      <td>     0.000000</td>\n",
        "      <td>     0.000000</td>\n",
        "      <td>     0.000000</td>\n",
        "      <td>     0.000000</td>\n",
        "      <td>...</td>\n",
        "    </tr>\n",
        "    <tr>\n",
        "      <th>75%</th>\n",
        "      <td>  1997.000000</td>\n",
        "      <td>   100.000000</td>\n",
        "      <td> 1.500000e+07</td>\n",
        "      <td>     7.000000</td>\n",
        "      <td>    112.000000</td>\n",
        "      <td>     4.500000</td>\n",
        "      <td>     4.500000</td>\n",
        "      <td>     4.500000</td>\n",
        "      <td>     4.500000</td>\n",
        "      <td>    14.500000</td>\n",
        "      <td>    14.500000</td>\n",
        "      <td>    24.500000</td>\n",
        "      <td>    24.500000</td>\n",
        "      <td>    14.500000</td>\n",
        "      <td>    24.500000</td>\n",
        "      <td>     0.000000</td>\n",
        "      <td>     0.000000</td>\n",
        "      <td>     1.000000</td>\n",
        "      <td>     1.000000</td>\n",
        "      <td>     0.000000</td>\n",
        "      <td>...</td>\n",
        "    </tr>\n",
        "    <tr>\n",
        "      <th>max</th>\n",
        "      <td>  2005.000000</td>\n",
        "      <td>  5220.000000</td>\n",
        "      <td> 2.000000e+08</td>\n",
        "      <td>    10.000000</td>\n",
        "      <td> 157608.000000</td>\n",
        "      <td>   100.000000</td>\n",
        "      <td>    84.500000</td>\n",
        "      <td>    84.500000</td>\n",
        "      <td>   100.000000</td>\n",
        "      <td>   100.000000</td>\n",
        "      <td>    84.500000</td>\n",
        "      <td>   100.000000</td>\n",
        "      <td>   100.000000</td>\n",
        "      <td>   100.000000</td>\n",
        "      <td>   100.000000</td>\n",
        "      <td>     1.000000</td>\n",
        "      <td>     1.000000</td>\n",
        "      <td>     1.000000</td>\n",
        "      <td>     1.000000</td>\n",
        "      <td>     1.000000</td>\n",
        "      <td>...</td>\n",
        "    </tr>\n",
        "  </tbody>\n",
        "</table>\n",
        "<p>8 rows \u00d7 22 columns</p>\n",
        "</div>"
       ],
       "metadata": {},
       "output_type": "pyout",
       "prompt_number": 140,
       "text": [
        "               year        length        budget        rating          votes  \\\n",
        "count  58788.000000  58788.000000  5.215000e+03  58788.000000   58788.000000   \n",
        "mean    1976.133582     82.337875  1.341251e+07      5.932850     632.130384   \n",
        "std       23.735125     44.347717  2.335008e+07      1.553031    3829.621413   \n",
        "min     1893.000000      1.000000  0.000000e+00      1.000000       5.000000   \n",
        "25%     1958.000000     74.000000  2.500000e+05      5.000000      11.000000   \n",
        "50%     1983.000000     90.000000  3.000000e+06      6.100000      30.000000   \n",
        "75%     1997.000000    100.000000  1.500000e+07      7.000000     112.000000   \n",
        "max     2005.000000   5220.000000  2.000000e+08     10.000000  157608.000000   \n",
        "\n",
        "                 r1            r2            r3            r4            r5  \\\n",
        "count  58788.000000  58788.000000  58788.000000  58788.000000  58788.000000   \n",
        "mean       7.014382      4.022377      4.721159      6.374847      9.796693   \n",
        "std       10.936759      5.960056      6.451629      7.586141      9.733612   \n",
        "min        0.000000      0.000000      0.000000      0.000000      0.000000   \n",
        "25%        0.000000      0.000000      0.000000      0.000000      4.500000   \n",
        "50%        4.500000      4.500000      4.500000      4.500000      4.500000   \n",
        "75%        4.500000      4.500000      4.500000      4.500000     14.500000   \n",
        "max      100.000000     84.500000     84.500000    100.000000    100.000000   \n",
        "\n",
        "                 r6            r7            r8            r9           r10  \\\n",
        "count  58788.000000  58788.000000  58788.000000  58788.000000  58788.000000   \n",
        "mean      13.039158     15.548088     13.875995      8.954208     16.854018   \n",
        "std       10.977600     11.589577     11.316963      9.440597     15.650722   \n",
        "min        0.000000      0.000000      0.000000      0.000000      0.000000   \n",
        "25%        4.500000      4.500000      4.500000      4.500000      4.500000   \n",
        "50%       14.500000     14.500000     14.500000      4.500000     14.500000   \n",
        "75%       14.500000     24.500000     24.500000     14.500000     24.500000   \n",
        "max       84.500000    100.000000    100.000000    100.000000    100.000000   \n",
        "\n",
        "             Action     Animation        Comedy         Drama   Documentary  \\\n",
        "count  58788.000000  58788.000000  58788.000000  58788.000000  58788.000000   \n",
        "mean       0.079744      0.062768      0.293784      0.371011      0.059060   \n",
        "std        0.270899      0.242547      0.455498      0.483080      0.235738   \n",
        "min        0.000000      0.000000      0.000000      0.000000      0.000000   \n",
        "25%        0.000000      0.000000      0.000000      0.000000      0.000000   \n",
        "50%        0.000000      0.000000      0.000000      0.000000      0.000000   \n",
        "75%        0.000000      0.000000      1.000000      1.000000      0.000000   \n",
        "max        1.000000      1.000000      1.000000      1.000000      1.000000   \n",
        "\n",
        "           \n",
        "count ...  \n",
        "mean  ...  \n",
        "std   ...  \n",
        "min   ...  \n",
        "25%   ...  \n",
        "50%   ...  \n",
        "75%   ...  \n",
        "max   ...  \n",
        "\n",
        "[8 rows x 22 columns]"
       ]
      }
     ],
     "prompt_number": 140
    },
    {
     "cell_type": "code",
     "collapsed": false,
     "input": [
      "by_year = movies.set_index('year')\n",
      "by_year.sort_index(inplace=True)\n",
      "by_year.loc[1990:1991].head()"
     ],
     "language": "python",
     "metadata": {
      "slideshow": {
       "slide_type": "subslide"
      }
     },
     "outputs": [
      {
       "html": [
        "<div style=\"max-height:1000px;max-width:1500px;overflow:auto;\">\n",
        "<table border=\"1\" class=\"dataframe\">\n",
        "  <thead>\n",
        "    <tr style=\"text-align: right;\">\n",
        "      <th></th>\n",
        "      <th>title</th>\n",
        "      <th>length</th>\n",
        "      <th>budget</th>\n",
        "      <th>rating</th>\n",
        "      <th>votes</th>\n",
        "      <th>r1</th>\n",
        "      <th>r2</th>\n",
        "      <th>r3</th>\n",
        "      <th>r4</th>\n",
        "      <th>r5</th>\n",
        "      <th>r6</th>\n",
        "      <th>r7</th>\n",
        "      <th>r8</th>\n",
        "      <th>r9</th>\n",
        "      <th>r10</th>\n",
        "      <th>mpaa</th>\n",
        "      <th>Action</th>\n",
        "      <th>Animation</th>\n",
        "      <th>Comedy</th>\n",
        "      <th>Drama</th>\n",
        "      <th></th>\n",
        "    </tr>\n",
        "    <tr>\n",
        "      <th>year</th>\n",
        "      <th></th>\n",
        "      <th></th>\n",
        "      <th></th>\n",
        "      <th></th>\n",
        "      <th></th>\n",
        "      <th></th>\n",
        "      <th></th>\n",
        "      <th></th>\n",
        "      <th></th>\n",
        "      <th></th>\n",
        "      <th></th>\n",
        "      <th></th>\n",
        "      <th></th>\n",
        "      <th></th>\n",
        "      <th></th>\n",
        "      <th></th>\n",
        "      <th></th>\n",
        "      <th></th>\n",
        "      <th></th>\n",
        "      <th></th>\n",
        "    </tr>\n",
        "  </thead>\n",
        "  <tbody>\n",
        "    <tr>\n",
        "      <th>1990</th>\n",
        "      <td>     Tsarskaya okhota</td>\n",
        "      <td> 134</td>\n",
        "      <td>     NaN</td>\n",
        "      <td> 4.6</td>\n",
        "      <td>    9</td>\n",
        "      <td>  0.0</td>\n",
        "      <td> 0.0</td>\n",
        "      <td> 0.0</td>\n",
        "      <td> 24.5</td>\n",
        "      <td>  0.0</td>\n",
        "      <td> 14.5</td>\n",
        "      <td> 14.5</td>\n",
        "      <td> 34.5</td>\n",
        "      <td>  0.0</td>\n",
        "      <td> 24.5</td>\n",
        "      <td> NaN</td>\n",
        "      <td> 0</td>\n",
        "      <td> 0</td>\n",
        "      <td> 0</td>\n",
        "      <td> 1</td>\n",
        "      <td>...</td>\n",
        "    </tr>\n",
        "    <tr>\n",
        "      <th>1990</th>\n",
        "      <td>         Maniac Cop 2</td>\n",
        "      <td>  90</td>\n",
        "      <td> 4000000</td>\n",
        "      <td> 4.4</td>\n",
        "      <td>  360</td>\n",
        "      <td>  4.5</td>\n",
        "      <td> 4.5</td>\n",
        "      <td> 4.5</td>\n",
        "      <td> 14.5</td>\n",
        "      <td> 14.5</td>\n",
        "      <td> 24.5</td>\n",
        "      <td> 14.5</td>\n",
        "      <td>  4.5</td>\n",
        "      <td>  4.5</td>\n",
        "      <td>  4.5</td>\n",
        "      <td> NaN</td>\n",
        "      <td> 1</td>\n",
        "      <td> 0</td>\n",
        "      <td> 0</td>\n",
        "      <td> 0</td>\n",
        "      <td>...</td>\n",
        "    </tr>\n",
        "    <tr>\n",
        "      <th>1990</th>\n",
        "      <td>      Jin pai shi jie</td>\n",
        "      <td>  87</td>\n",
        "      <td>     NaN</td>\n",
        "      <td> 4.2</td>\n",
        "      <td>    8</td>\n",
        "      <td> 14.5</td>\n",
        "      <td> 0.0</td>\n",
        "      <td> 0.0</td>\n",
        "      <td>  0.0</td>\n",
        "      <td> 34.5</td>\n",
        "      <td> 24.5</td>\n",
        "      <td> 14.5</td>\n",
        "      <td>  0.0</td>\n",
        "      <td> 14.5</td>\n",
        "      <td>  0.0</td>\n",
        "      <td> NaN</td>\n",
        "      <td> 1</td>\n",
        "      <td> 0</td>\n",
        "      <td> 0</td>\n",
        "      <td> 0</td>\n",
        "      <td>...</td>\n",
        "    </tr>\n",
        "    <tr>\n",
        "      <th>1990</th>\n",
        "      <td> Handmaid's Tale, The</td>\n",
        "      <td> 108</td>\n",
        "      <td>     NaN</td>\n",
        "      <td> 5.8</td>\n",
        "      <td> 1261</td>\n",
        "      <td>  4.5</td>\n",
        "      <td> 4.5</td>\n",
        "      <td> 4.5</td>\n",
        "      <td>  4.5</td>\n",
        "      <td> 14.5</td>\n",
        "      <td> 14.5</td>\n",
        "      <td> 24.5</td>\n",
        "      <td> 14.5</td>\n",
        "      <td>  4.5</td>\n",
        "      <td>  4.5</td>\n",
        "      <td> NaN</td>\n",
        "      <td> 0</td>\n",
        "      <td> 0</td>\n",
        "      <td> 0</td>\n",
        "      <td> 1</td>\n",
        "      <td>...</td>\n",
        "    </tr>\n",
        "    <tr>\n",
        "      <th>1990</th>\n",
        "      <td>        Ragazzi fuori</td>\n",
        "      <td> 110</td>\n",
        "      <td>     NaN</td>\n",
        "      <td> 7.5</td>\n",
        "      <td>   29</td>\n",
        "      <td>  4.5</td>\n",
        "      <td> 0.0</td>\n",
        "      <td> 0.0</td>\n",
        "      <td>  4.5</td>\n",
        "      <td>  0.0</td>\n",
        "      <td> 24.5</td>\n",
        "      <td> 14.5</td>\n",
        "      <td> 24.5</td>\n",
        "      <td> 24.5</td>\n",
        "      <td>  4.5</td>\n",
        "      <td> NaN</td>\n",
        "      <td> 0</td>\n",
        "      <td> 0</td>\n",
        "      <td> 0</td>\n",
        "      <td> 1</td>\n",
        "      <td>...</td>\n",
        "    </tr>\n",
        "  </tbody>\n",
        "</table>\n",
        "<p>5 rows \u00d7 23 columns</p>\n",
        "</div>"
       ],
       "metadata": {},
       "output_type": "pyout",
       "prompt_number": 158,
       "text": [
        "                     title  length   budget  rating  votes    r1   r2   r3  \\\n",
        "year                                                                         \n",
        "1990      Tsarskaya okhota     134      NaN     4.6      9   0.0  0.0  0.0   \n",
        "1990          Maniac Cop 2      90  4000000     4.4    360   4.5  4.5  4.5   \n",
        "1990       Jin pai shi jie      87      NaN     4.2      8  14.5  0.0  0.0   \n",
        "1990  Handmaid's Tale, The     108      NaN     5.8   1261   4.5  4.5  4.5   \n",
        "1990         Ragazzi fuori     110      NaN     7.5     29   4.5  0.0  0.0   \n",
        "\n",
        "        r4    r5    r6    r7    r8    r9   r10 mpaa  Action  Animation  \\\n",
        "year                                                                     \n",
        "1990  24.5   0.0  14.5  14.5  34.5   0.0  24.5  NaN       0          0   \n",
        "1990  14.5  14.5  24.5  14.5   4.5   4.5   4.5  NaN       1          0   \n",
        "1990   0.0  34.5  24.5  14.5   0.0  14.5   0.0  NaN       1          0   \n",
        "1990   4.5  14.5  14.5  24.5  14.5   4.5   4.5  NaN       0          0   \n",
        "1990   4.5   0.0  24.5  14.5  24.5  24.5   4.5  NaN       0          0   \n",
        "\n",
        "      Comedy  Drama      \n",
        "year                     \n",
        "1990       0      1 ...  \n",
        "1990       0      0 ...  \n",
        "1990       0      0 ...  \n",
        "1990       0      1 ...  \n",
        "1990       0      1 ...  \n",
        "\n",
        "[5 rows x 23 columns]"
       ]
      }
     ],
     "prompt_number": 158
    },
    {
     "cell_type": "code",
     "collapsed": false,
     "input": [
      "movies[['rating', 'year']].boxplot(by='year')"
     ],
     "language": "python",
     "metadata": {
      "slideshow": {
       "slide_type": "subslide"
      }
     },
     "outputs": [
      {
       "metadata": {},
       "output_type": "pyout",
       "prompt_number": 142,
       "text": [
        "<matplotlib.axes.AxesSubplot at 0x1295083c8>"
       ]
      },
      {
       "metadata": {},
       "output_type": "display_data",
       "png": "[encoded data removed]",
       "text": [
        "<matplotlib.figure.Figure at 0x129508978>"
       ]
      }
     ],
     "prompt_number": 142
    },
    {
     "cell_type": "code",
     "collapsed": false,
     "input": [
      "movies[['budget', 'year']].boxplot(by='year')"
     ],
     "language": "python",
     "metadata": {
      "slideshow": {
       "slide_type": "subslide"
      }
     },
     "outputs": [
      {
       "metadata": {},
       "output_type": "pyout",
       "prompt_number": 143,
       "text": [
        "<matplotlib.axes.AxesSubplot at 0x127c369e8>"
       ]
      },
      {
       "metadata": {},
       "output_type": "display_data",
       "png": "[encoded data removed]",
       "text": [
        "<matplotlib.figure.Figure at 0x128c24ef0>"
       ]
      }
     ],
     "prompt_number": 143
    },
    {
     "cell_type": "code",
     "collapsed": false,
     "input": [
      "by_year.loc[1990:1999][['budget']].hist(bins=20)"
     ],
     "language": "python",
     "metadata": {
      "slideshow": {
       "slide_type": "subslide"
      }
     },
     "outputs": [
      {
       "metadata": {},
       "output_type": "pyout",
       "prompt_number": 156,
       "text": [
        "array([[<matplotlib.axes.AxesSubplot object at 0x12ea77a58>]], dtype=object)"
       ]
      },
      {
       "metadata": {},
       "output_type": "display_data",
       "png": "[encoded data removed]",
       "text": [
        "<matplotlib.figure.Figure at 0x12e88ce10>"
       ]
      }
     ],
     "prompt_number": 156
    },
    {
     "cell_type": "code",
     "collapsed": false,
     "input": [
      "by_year.loc[1960:1969][['budget']].hist(bins=20)"
     ],
     "language": "python",
     "metadata": {
      "slideshow": {
       "slide_type": "subslide"
      }
     },
     "outputs": [
      {
       "metadata": {},
       "output_type": "pyout",
       "prompt_number": 157,
       "text": [
        "array([[<matplotlib.axes.AxesSubplot object at 0x12e99ebe0>]], dtype=object)"
       ]
      },
      {
       "metadata": {},
       "output_type": "display_data",
       "png": "[encoded data removed]",
       "text": [
        "<matplotlib.figure.Figure at 0x12e8bf828>"
       ]
      }
     ],
     "prompt_number": 157
    },
    {
     "cell_type": "code",
     "collapsed": false,
     "input": [
      "movies[['rating', 'mpaa']].boxplot(by='mpaa')"
     ],
     "language": "python",
     "metadata": {
      "slideshow": {
       "slide_type": "subslide"
      }
     },
     "outputs": [
      {
       "metadata": {},
       "output_type": "pyout",
       "prompt_number": 196,
       "text": [
        "<matplotlib.axes.AxesSubplot at 0x131240208>"
       ]
      },
      {
       "metadata": {},
       "output_type": "display_data",
       "png": "[encoded data removed]",
       "text": [
        "<matplotlib.figure.Figure at 0x1303629e8>"
       ]
      }
     ],
     "prompt_number": 196
    },
    {
     "cell_type": "code",
     "collapsed": false,
     "input": [
      "movies[(movies['Drama'] == 1) & (movies['Romance'] == 1)][['rating', 'mpaa']].boxplot(by='mpaa')"
     ],
     "language": "python",
     "metadata": {
      "slideshow": {
       "slide_type": "subslide"
      }
     },
     "outputs": [
      {
       "metadata": {},
       "output_type": "pyout",
       "prompt_number": 192,
       "text": [
        "<matplotlib.axes.AxesSubplot at 0x130e19438>"
       ]
      },
      {
       "metadata": {},
       "output_type": "display_data",
       "png": "[encoded data removed]",
       "text": [
        "<matplotlib.figure.Figure at 0x130df9780>"
       ]
      }
     ],
     "prompt_number": 192
    },
    {
     "cell_type": "code",
     "collapsed": false,
     "input": [
      "movies[(movies['Drama'] == 1) & (movies['Comedy'] == 1)][['budget', 'mpaa']].boxplot(by='mpaa')"
     ],
     "language": "python",
     "metadata": {
      "slideshow": {
       "slide_type": "subslide"
      }
     },
     "outputs": [
      {
       "metadata": {},
       "output_type": "pyout",
       "prompt_number": 194,
       "text": [
        "<matplotlib.axes.AxesSubplot at 0x1310475f8>"
       ]
      },
      {
       "metadata": {},
       "output_type": "display_data",
       "png": "[encoded data removed]",
       "text": [
        "<matplotlib.figure.Figure at 0x130b7db00>"
       ]
      }
     ],
     "prompt_number": 194
    }
   ],
   "metadata": {}
  }
 ]
}