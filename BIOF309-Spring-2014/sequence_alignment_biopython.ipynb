{
 "metadata": {
  "celltoolbar": "Slideshow",
  "name": "",
  "signature": "sha256:e27d0943501e29b1455488e94ff5283d504bde6a6e08d2c5f829e58d9dc56b15"
 },
 "nbformat": 3,
 "nbformat_minor": 0,
 "worksheets": [
  {
   "cells": [
    {
     "cell_type": "markdown",
     "metadata": {
      "slideshow": {
       "slide_type": "slide"
      }
     },
     "source": [
      "# Sequence Alignment using Biopython\n",
      "## Matt Shirley\n",
      "### April 24 2014"
     ]
    },
    {
     "cell_type": "markdown",
     "metadata": {
      "slideshow": {
       "slide_type": "slide"
      }
     },
     "source": [
      "# Getting Started\n",
      "\n",
      "If you haven't already, please run `pip install biopython`. "
     ]
    },
    {
     "cell_type": "markdown",
     "metadata": {
      "slideshow": {
       "slide_type": "subslide"
      }
     },
     "source": [
      "# Topics\n",
      "\n",
      "- ###Reading sequence files\n",
      "- ###Fetching sequence files from Entrez\n",
      "- ###Seq objects\n",
      "- ###Sequence alignment overview\n",
      "- ###Pairwise alignment in BioPython\n",
      "- ###Multiple sequence alignment\n",
      "- ###BLAST search\n"
     ]
    },
    {
     "cell_type": "markdown",
     "metadata": {
      "slideshow": {
       "slide_type": "slide"
      }
     },
     "source": [
      "## Reading sequence files\n",
      "\n",
      "Q: What kinds of sequence files can we read?\n",
      "\n",
      "A: Everything that [Bio.SeqIO](http://biopython.org/wiki/SeqIO#File_Formats) can read.\n",
      "\n",
      "*Namely FASTA, FASTQ, GenBank, and various alignment formats (Clustal, Phylip...)*"
     ]
    },
    {
     "cell_type": "code",
     "collapsed": false,
     "input": [
      "from Bio import SeqIO\n",
      "human, mouse, rat = tuple(SeqIO.parse(\"example_protein.fasta\", \"fasta\"))\n",
      "human\n"
     ],
     "language": "python",
     "metadata": {
      "slideshow": {
       "slide_type": "fragment"
      }
     },
     "outputs": [
      {
       "metadata": {},
       "output_type": "pyout",
       "prompt_number": 168,
       "text": [
        "SeqRecord(seq=Seq('MVHLTPEEKSAVTALWGKVNVDEVGGEALGRLLVVYPWTQRFFESFGDLSTPDA...KYH', SingleLetterAlphabet()), id='gi|4504349|ref|NP_000509.1|', name='gi|4504349|ref|NP_000509.1|', description='gi|4504349|ref|NP_000509.1| hemoglobin subunit beta [Homo sapiens]', dbxrefs=[])"
       ]
      }
     ],
     "prompt_number": 168
    },
    {
     "cell_type": "markdown",
     "metadata": {
      "slideshow": {
       "slide_type": "fragment"
      }
     },
     "source": [
      "Here we've completely consumed an iterator into a tuple and then unpacked the tuple into three variables. Each of the three entries in the FASTA file are returned as SeqRecord instances.  \n",
      "*Notice anything special about the protein sequence?*"
     ]
    },
    {
     "cell_type": "code",
     "collapsed": false,
     "input": [
      "from Bio import SeqIO\n",
      "for sequence in SeqIO.parse(\"example_protein.fasta\", \"fasta\"):\n",
      "    print(sequence.id)\n"
     ],
     "language": "python",
     "metadata": {
      "slideshow": {
       "slide_type": "fragment"
      }
     },
     "outputs": [
      {
       "output_type": "stream",
       "stream": "stdout",
       "text": [
        "gi|4504349|ref|NP_000509.1|\n",
        "gi|256600242|ref|NP_001157900.1|\n",
        "gi|17985949|ref|NP_150237.1|\n"
       ]
      }
     ],
     "prompt_number": 146
    },
    {
     "cell_type": "markdown",
     "metadata": {
      "slideshow": {
       "slide_type": "fragment"
      }
     },
     "source": [
      "We can just as easily use the iterator directly."
     ]
    },
    {
     "cell_type": "code",
     "collapsed": false,
     "input": [
      "human"
     ],
     "language": "python",
     "metadata": {
      "slideshow": {
       "slide_type": "subslide"
      }
     },
     "outputs": [
      {
       "metadata": {},
       "output_type": "pyout",
       "prompt_number": 166,
       "text": [
        "SeqRecord(seq=Seq('MVHLTPEEKSAVTALWGKVNVDEVGGEALGRLLVVYPWTQRFFESFGDLSTPDA...KYH', SingleLetterAlphabet()), id='gi|4504349|ref|NP_000509.1|', name='gi|4504349|ref|NP_000509.1|', description='gi|4504349|ref|NP_000509.1| hemoglobin subunit beta [Homo sapiens]', dbxrefs=[])"
       ]
      }
     ],
     "prompt_number": 166
    },
    {
     "cell_type": "code",
     "collapsed": false,
     "input": [
      "human.name"
     ],
     "language": "python",
     "metadata": {
      "slideshow": {
       "slide_type": "fragment"
      }
     },
     "outputs": [
      {
       "metadata": {},
       "output_type": "pyout",
       "prompt_number": 167,
       "text": [
        "'gi|4504349|ref|NP_000509.1|'"
       ]
      }
     ],
     "prompt_number": 167
    },
    {
     "cell_type": "code",
     "collapsed": false,
     "input": [
      "human.seq"
     ],
     "language": "python",
     "metadata": {
      "slideshow": {
       "slide_type": "fragment"
      }
     },
     "outputs": [
      {
       "metadata": {},
       "output_type": "pyout",
       "prompt_number": 163,
       "text": [
        "Seq('MVHLTPEEKSAVTALWGKVNVDEVGGEALGRLLVVYPWTQRFFESFGDLSTPDA...KYH', SingleLetterAlphabet())"
       ]
      }
     ],
     "prompt_number": 163
    },
    {
     "cell_type": "markdown",
     "metadata": {
      "slideshow": {
       "slide_type": "fragment"
      }
     },
     "source": [
      "The special thing about the `.seq` attribute is that it's an instance of `Seq`."
     ]
    },
    {
     "cell_type": "markdown",
     "metadata": {
      "slideshow": {
       "slide_type": "slide"
      }
     },
     "source": [
      "## Fetching sequence files from Entrez\n",
      "\n",
      "Instead of downloading files and then parsing then in to Python, we can programatically access sequence files through Entrez using GI numbers:"
     ]
    },
    {
     "cell_type": "code",
     "collapsed": false,
     "input": [
      "from Bio import Entrez\n",
      "from Bio import SeqIO\n",
      "Entrez.email = \"mdshw5@gmail.com\"\n",
      "handle = Entrez.efetch(db=\"nucleotide\", rettype=\"gb\", retmode=\"text\", id=\"612408096\")\n",
      "seq_record = SeqIO.read(handle, \"gb\")\n",
      "handle.close()\n",
      "seq_record"
     ],
     "language": "python",
     "metadata": {
      "slideshow": {
       "slide_type": "fragment"
      }
     },
     "outputs": [
      {
       "metadata": {},
       "output_type": "pyout",
       "prompt_number": 191,
       "text": [
        "SeqRecord(seq=Seq('GAACCCCTTTATGGAAGAAGAAAACTGAATAAACAGAAATTGTCATGCTCTGAC...GAT', IUPACAmbiguousDNA()), id='KF801065.1', name='KF801065', description='Crocidura paradoxura voucher FMNH212885 breast cancer susceptibility 1 (BRCA) gene, partial cds.', dbxrefs=[])"
       ]
      }
     ],
     "prompt_number": 191
    },
    {
     "cell_type": "markdown",
     "metadata": {
      "slideshow": {
       "slide_type": "subslide"
      }
     },
     "source": [
      "You can fetch multiple sequences using a loop, or you can pass multiple GI numbers at once:"
     ]
    },
    {
     "cell_type": "code",
     "collapsed": false,
     "input": [
      "from Bio import Entrez\n",
      "from Bio import SeqIO\n",
      "Entrez.email = \"mdshw5@gmail.com\"\n",
      "handle = Entrez.efetch(db=\"nucleotide\", rettype=\"gb\", retmode=\"text\", id=\"612408096, 612408097, 612408098, 612408099\")\n",
      "\n",
      "for seq_record in SeqIO.parse(handle, \"gb\"):\n",
      "    print(seq_record.description)\n",
      "handle.close()"
     ],
     "language": "python",
     "metadata": {
      "slideshow": {
       "slide_type": "fragment"
      }
     },
     "outputs": [
      {
       "output_type": "stream",
       "stream": "stdout",
       "text": [
        "Crocidura paradoxura voucher FMNH212885 breast cancer susceptibility 1 (BRCA) gene, partial cds.\n",
        "breast cancer susceptibility 1, partial [Crocidura paradoxura].\n",
        "Crocidura paradoxura voucher FMNH212880 cytochrome b (CytB) gene, partial cds; mitochondrial.\n",
        "cytochrome b, partial (mitochondrion) [Crocidura paradoxura].\n"
       ]
      }
     ],
     "prompt_number": 197
    },
    {
     "cell_type": "markdown",
     "metadata": {
      "slideshow": {
       "slide_type": "subslide"
      }
     },
     "source": [
      "Sometimes a dictionary is more convenient for working with multiple sequences:"
     ]
    },
    {
     "cell_type": "code",
     "collapsed": false,
     "input": [
      "from Bio import Entrez\n",
      "from Bio import SeqIO\n",
      "Entrez.email = \"mdshw5@gmail.com\"\n",
      "handle = Entrez.efetch(db=\"nucleotide\", rettype=\"gb\", retmode=\"text\", id=\"612408096, 612408097, 612408098, 612408099\")\n",
      "\n",
      "sequences = SeqIO.to_dict(SeqIO.parse(handle, \"gb\"))\n",
      "sequences['KF801066.1']"
     ],
     "language": "python",
     "metadata": {
      "slideshow": {
       "slide_type": "fragment"
      }
     },
     "outputs": [
      {
       "metadata": {},
       "output_type": "pyout",
       "prompt_number": 200,
       "text": [
        "SeqRecord(seq=Seq('CACCCTCAAATATTTCATCATGGTGAAACTTCGGCTCCTTATTAGGAATTTGTT...AGA', IUPACAmbiguousDNA()), id='KF801066.1', name='KF801066', description='Crocidura paradoxura voucher FMNH212880 cytochrome b (CytB) gene, partial cds; mitochondrial.', dbxrefs=[])"
       ]
      }
     ],
     "prompt_number": 200
    },
    {
     "cell_type": "markdown",
     "metadata": {
      "slideshow": {
       "slide_type": "subslide"
      }
     },
     "source": [
      "Also useful is the ability to write sequences back to a number of different formats:"
     ]
    },
    {
     "cell_type": "code",
     "collapsed": false,
     "input": [
      "SeqIO.write(seq_record, \"brca1.fasta\", \"fasta\")"
     ],
     "language": "python",
     "metadata": {
      "slideshow": {
       "slide_type": "fragment"
      }
     },
     "outputs": [
      {
       "metadata": {},
       "output_type": "pyout",
       "prompt_number": 202,
       "text": [
        "1"
       ]
      }
     ],
     "prompt_number": 202
    },
    {
     "cell_type": "code",
     "collapsed": false,
     "input": [
      "SeqIO.write(seq_record, \"brca1.genbank\", \"gb\")"
     ],
     "language": "python",
     "metadata": {
      "slideshow": {
       "slide_type": "fragment"
      }
     },
     "outputs": [
      {
       "metadata": {},
       "output_type": "pyout",
       "prompt_number": 203,
       "text": [
        "1"
       ]
      }
     ],
     "prompt_number": 203
    },
    {
     "cell_type": "markdown",
     "metadata": {
      "slideshow": {
       "slide_type": "subslide"
      }
     },
     "source": [
      "## Seq objects\n",
      "\n",
      "`Seq` objects have a few useful properties. First, each `Seq` object is instantiated with an \"alphabet\"."
     ]
    },
    {
     "cell_type": "code",
     "collapsed": false,
     "input": [
      "from Bio.Alphabet import generic_dna, generic_protein\n",
      "from Bio.Seq import Seq\n",
      "\n",
      "protein = Seq('ATGMVKL', generic_protein)\n",
      "dna = Seq('ATGAGAATTGAGATC', generic_dna)"
     ],
     "language": "python",
     "metadata": {
      "slideshow": {
       "slide_type": "fragment"
      }
     },
     "outputs": [],
     "prompt_number": 148
    },
    {
     "cell_type": "markdown",
     "metadata": {
      "slideshow": {
       "slide_type": "subslide"
      }
     },
     "source": [
      "Why does this matter?"
     ]
    },
    {
     "cell_type": "code",
     "collapsed": false,
     "input": [
      "dna.complement()"
     ],
     "language": "python",
     "metadata": {
      "slideshow": {
       "slide_type": "fragment"
      }
     },
     "outputs": [
      {
       "metadata": {},
       "output_type": "pyout",
       "prompt_number": 149,
       "text": [
        "Seq('TACTCTTAACTCTAG', DNAAlphabet())"
       ]
      }
     ],
     "prompt_number": 149
    },
    {
     "cell_type": "code",
     "collapsed": false,
     "input": [
      "dna.reverse_complement()"
     ],
     "language": "python",
     "metadata": {
      "slideshow": {
       "slide_type": "fragment"
      }
     },
     "outputs": [
      {
       "metadata": {},
       "output_type": "pyout",
       "prompt_number": 150,
       "text": [
        "Seq('GATCTCAATTCTCAT', DNAAlphabet())"
       ]
      }
     ],
     "prompt_number": 150
    },
    {
     "cell_type": "code",
     "collapsed": false,
     "input": [
      "protein.complement()"
     ],
     "language": "python",
     "metadata": {
      "slideshow": {
       "slide_type": "fragment"
      }
     },
     "outputs": [
      {
       "ename": "ValueError",
       "evalue": "Proteins do not have complements!",
       "output_type": "pyerr",
       "traceback": [
        "\u001b[0;31m---------------------------------------------------------------------------\u001b[0m\n\u001b[0;31mValueError\u001b[0m                                Traceback (most recent call last)",
        "\u001b[0;32m<ipython-input-151-bfbaa371d4a4>\u001b[0m in \u001b[0;36m<module>\u001b[0;34m()\u001b[0m\n\u001b[0;32m----> 1\u001b[0;31m \u001b[0mprotein\u001b[0m\u001b[0;34m.\u001b[0m\u001b[0mcomplement\u001b[0m\u001b[0;34m(\u001b[0m\u001b[0;34m)\u001b[0m\u001b[0;34m\u001b[0m\u001b[0m\n\u001b[0m",
        "\u001b[0;32m/Users/matt/Work/lecture-notes/BIOF309-Spring-2014/venv/lib/python3.4/site-packages/Bio/Seq.py\u001b[0m in \u001b[0;36mcomplement\u001b[0;34m(self)\u001b[0m\n\u001b[1;32m    721\u001b[0m         \u001b[0mbase\u001b[0m \u001b[0;34m=\u001b[0m \u001b[0mAlphabet\u001b[0m\u001b[0;34m.\u001b[0m\u001b[0m_get_base_alphabet\u001b[0m\u001b[0;34m(\u001b[0m\u001b[0mself\u001b[0m\u001b[0;34m.\u001b[0m\u001b[0malphabet\u001b[0m\u001b[0;34m)\u001b[0m\u001b[0;34m\u001b[0m\u001b[0m\n\u001b[1;32m    722\u001b[0m         \u001b[0;32mif\u001b[0m \u001b[0misinstance\u001b[0m\u001b[0;34m(\u001b[0m\u001b[0mbase\u001b[0m\u001b[0;34m,\u001b[0m \u001b[0mAlphabet\u001b[0m\u001b[0;34m.\u001b[0m\u001b[0mProteinAlphabet\u001b[0m\u001b[0;34m)\u001b[0m\u001b[0;34m:\u001b[0m\u001b[0;34m\u001b[0m\u001b[0m\n\u001b[0;32m--> 723\u001b[0;31m             \u001b[0;32mraise\u001b[0m \u001b[0mValueError\u001b[0m\u001b[0;34m(\u001b[0m\u001b[0;34m\"Proteins do not have complements!\"\u001b[0m\u001b[0;34m)\u001b[0m\u001b[0;34m\u001b[0m\u001b[0m\n\u001b[0m\u001b[1;32m    724\u001b[0m         \u001b[0;32mif\u001b[0m \u001b[0misinstance\u001b[0m\u001b[0;34m(\u001b[0m\u001b[0mbase\u001b[0m\u001b[0;34m,\u001b[0m \u001b[0mAlphabet\u001b[0m\u001b[0;34m.\u001b[0m\u001b[0mDNAAlphabet\u001b[0m\u001b[0;34m)\u001b[0m\u001b[0;34m:\u001b[0m\u001b[0;34m\u001b[0m\u001b[0m\n\u001b[1;32m    725\u001b[0m             \u001b[0mttable\u001b[0m \u001b[0;34m=\u001b[0m \u001b[0m_dna_complement_table\u001b[0m\u001b[0;34m\u001b[0m\u001b[0m\n",
        "\u001b[0;31mValueError\u001b[0m: Proteins do not have complements!"
       ]
      }
     ],
     "prompt_number": 151
    },
    {
     "cell_type": "markdown",
     "metadata": {
      "slideshow": {
       "slide_type": "subslide"
      }
     },
     "source": [
      "Bio.Seq alphabets provide type checking for biological strings. "
     ]
    },
    {
     "cell_type": "code",
     "collapsed": false,
     "input": [
      "dna + protein"
     ],
     "language": "python",
     "metadata": {
      "slideshow": {
       "slide_type": "fragment"
      }
     },
     "outputs": [
      {
       "ename": "TypeError",
       "evalue": "Incompatible alphabets DNAAlphabet() and ProteinAlphabet()",
       "output_type": "pyerr",
       "traceback": [
        "\u001b[0;31m---------------------------------------------------------------------------\u001b[0m\n\u001b[0;31mTypeError\u001b[0m                                 Traceback (most recent call last)",
        "\u001b[0;32m<ipython-input-152-54c2c430804d>\u001b[0m in \u001b[0;36m<module>\u001b[0;34m()\u001b[0m\n\u001b[0;32m----> 1\u001b[0;31m \u001b[0mdna\u001b[0m \u001b[0;34m+\u001b[0m \u001b[0mprotein\u001b[0m\u001b[0;34m\u001b[0m\u001b[0m\n\u001b[0m",
        "\u001b[0;32m/Users/matt/Work/lecture-notes/BIOF309-Spring-2014/venv/lib/python3.4/site-packages/Bio/Seq.py\u001b[0m in \u001b[0;36m__add__\u001b[0;34m(self, other)\u001b[0m\n\u001b[1;32m    251\u001b[0m                                                     other.alphabet]):\n\u001b[1;32m    252\u001b[0m                 raise TypeError(\"Incompatible alphabets %s and %s\"\n\u001b[0;32m--> 253\u001b[0;31m                                 % (repr(self.alphabet), repr(other.alphabet)))\n\u001b[0m\u001b[1;32m    254\u001b[0m             \u001b[0;31m#They should be the same sequence type (or one of them is generic)\u001b[0m\u001b[0;34m\u001b[0m\u001b[0;34m\u001b[0m\u001b[0m\n\u001b[1;32m    255\u001b[0m             \u001b[0ma\u001b[0m \u001b[0;34m=\u001b[0m \u001b[0mAlphabet\u001b[0m\u001b[0;34m.\u001b[0m\u001b[0m_consensus_alphabet\u001b[0m\u001b[0;34m(\u001b[0m\u001b[0;34m[\u001b[0m\u001b[0mself\u001b[0m\u001b[0;34m.\u001b[0m\u001b[0malphabet\u001b[0m\u001b[0;34m,\u001b[0m \u001b[0mother\u001b[0m\u001b[0;34m.\u001b[0m\u001b[0malphabet\u001b[0m\u001b[0;34m]\u001b[0m\u001b[0;34m)\u001b[0m\u001b[0;34m\u001b[0m\u001b[0m\n",
        "\u001b[0;31mTypeError\u001b[0m: Incompatible alphabets DNAAlphabet() and ProteinAlphabet()"
       ]
      }
     ],
     "prompt_number": 152
    },
    {
     "cell_type": "markdown",
     "metadata": {
      "slideshow": {
       "slide_type": "subslide"
      }
     },
     "source": [
      "`Seq` objects also have some general methods you would use for `str`:"
     ]
    },
    {
     "cell_type": "code",
     "collapsed": false,
     "input": [
      "dna.count('T')"
     ],
     "language": "python",
     "metadata": {
      "slideshow": {
       "slide_type": "fragment"
      }
     },
     "outputs": [
      {
       "metadata": {},
       "output_type": "pyout",
       "prompt_number": 153,
       "text": [
        "4"
       ]
      }
     ],
     "prompt_number": 153
    },
    {
     "cell_type": "code",
     "collapsed": false,
     "input": [
      "dna.find('GC')"
     ],
     "language": "python",
     "metadata": {
      "slideshow": {
       "slide_type": "fragment"
      }
     },
     "outputs": [
      {
       "metadata": {},
       "output_type": "pyout",
       "prompt_number": 154,
       "text": [
        "-1"
       ]
      }
     ],
     "prompt_number": 154
    },
    {
     "cell_type": "markdown",
     "metadata": {
      "slideshow": {
       "slide_type": "subslide"
      }
     },
     "source": [
      "`Seq` also has useful methods for \"dogmatic\" processing of DNA:"
     ]
    },
    {
     "cell_type": "code",
     "collapsed": false,
     "input": [
      "rna = dna.transcribe()\n",
      "rna"
     ],
     "language": "python",
     "metadata": {
      "slideshow": {
       "slide_type": "fragment"
      }
     },
     "outputs": [
      {
       "metadata": {},
       "output_type": "pyout",
       "prompt_number": 155,
       "text": [
        "Seq('AUGAGAAUUGAGAUC', RNAAlphabet())"
       ]
      }
     ],
     "prompt_number": 155
    },
    {
     "cell_type": "code",
     "collapsed": false,
     "input": [
      "prot = rna.translate(table=\"Invertebrate Mitochondrial\")\n",
      "prot"
     ],
     "language": "python",
     "metadata": {
      "slideshow": {
       "slide_type": "fragment"
      }
     },
     "outputs": [
      {
       "metadata": {},
       "output_type": "pyout",
       "prompt_number": 156,
       "text": [
        "Seq('MSIEI', ExtendedIUPACProtein())"
       ]
      }
     ],
     "prompt_number": 156
    },
    {
     "cell_type": "code",
     "collapsed": false,
     "input": [
      "prot = rna.translate(table=\"Yeast Mitochondrial\")\n",
      "prot"
     ],
     "language": "python",
     "metadata": {
      "slideshow": {
       "slide_type": "fragment"
      }
     },
     "outputs": [
      {
       "metadata": {},
       "output_type": "pyout",
       "prompt_number": 157,
       "text": [
        "Seq('MRIEI', ExtendedIUPACProtein())"
       ]
      }
     ],
     "prompt_number": 157
    },
    {
     "cell_type": "markdown",
     "metadata": {
      "slideshow": {
       "slide_type": "slide"
      }
     },
     "source": [
      "## What is sequence aligment?\n",
      "\n",
      "- Positioning of two strings to maximize pairwise sequence identity\n",
      "- The alphabet of the string determines the compexity and informativity of the alignment\n",
      "- DNA and RNA sequences (4 letter alphabet) are less complex and informative\n",
      "- Protein sequences (20 letter alphabet) are more complex and informative"
     ]
    },
    {
     "cell_type": "markdown",
     "metadata": {
      "slideshow": {
       "slide_type": "subslide"
      }
     },
     "source": [
      "# What is sequence alignment?\n",
      "\n",
      "In the early days, alignment was mostly of short strings:\n",
      "\n",
      "```\n",
      "ASPCGTYLAPCM\n",
      "|.|||.||||||\n",
      "ATPCGYYLAPCM\n",
      "```\n",
      "\n",
      "12 amino acid peptide with 2 mismatches. "
     ]
    },
    {
     "cell_type": "markdown",
     "metadata": {
      "slideshow": {
       "slide_type": "subslide"
      }
     },
     "source": [
      "## What is sequence aligment?\n",
      "\n",
      "- The type of string you align is dictated by the type of downstream analysis\n",
      "- Phylogenetic analysis by protein alignment is then more useful than DNA alignment\n",
      "- SNP analysis requires DNA alignment\n",
      "- RNA structure analysis requires DNA or RNA alignment\n"
     ]
    },
    {
     "cell_type": "markdown",
     "metadata": {
      "slideshow": {
       "slide_type": "slide"
      }
     },
     "source": [
      "## Pairwise alignment\n",
      "\n",
      "There are mainly two types of pairwise alignment algorithm: *local* and *global*. \n",
      "\n",
      "**Global** all residues in both strings must be aligned.\n",
      "\n",
      "```\n",
      "CYPCY-YLAPCM\n",
      "..|||.||||||\n",
      "ATPCYYYLAPCM\n",
      "```\n",
      "\n",
      "**Local** alignments allow alignments to start and end *within* one string or the other.\n",
      "\n",
      "```\n",
      "---CYPCYYLAPCM\n",
      "...||..|||||||\n",
      "ATPCY--YYLAPCM\n",
      "```\n",
      "\n",
      "**Which is better**? Probably the one with less gaps (`-`), but not always."
     ]
    },
    {
     "cell_type": "code",
     "collapsed": false,
     "input": [
      "# Pairwise global alignment in BioPython\n",
      "from Bio.pairwise2 import align, format_alignment\n",
      "# get a list of length 3 tuples\n",
      "# score match=1, mismatch=0\n",
      "alignments = align.globalmx(\"CYPCYYLAPCM\", \"ATPCYYYLAPCM\", 1, 0) \n",
      "print(alignments[2])\n",
      "print(format_alignment(*alignments[2]))"
     ],
     "language": "python",
     "metadata": {
      "slideshow": {
       "slide_type": "subslide"
      }
     },
     "outputs": [
      {
       "output_type": "stream",
       "stream": "stdout",
       "text": [
        "('CYPCYY-LAPCM', 'ATPCYYYLAPCM', 9, 0, 12)\n",
        "CYPCYY-LAPCM\n",
        "||||||||||||\n",
        "ATPCYYYLAPCM\n",
        "  Score=9\n",
        "\n"
       ]
      }
     ],
     "prompt_number": 158
    },
    {
     "cell_type": "markdown",
     "metadata": {
      "slideshow": {
       "slide_type": "fragment"
      }
     },
     "source": [
      "\"alignments\" is a list of tuples that the `format_alignments` function simply prints pretty"
     ]
    },
    {
     "cell_type": "code",
     "collapsed": false,
     "input": [
      "# Pairwise local alignment in BioPython\n",
      "from Bio.pairwise2 import align, format_alignment\n",
      "# get a list of length 3 tuples\n",
      "# score match=1, mismatch=-1\n",
      "alignments = align.localmx(\"CYPCYYLAPCM\", \"ATPCYYYLAPCM\", 1, -1) \n",
      "print(format_alignment(*alignments[2]))"
     ],
     "language": "python",
     "metadata": {
      "slideshow": {
       "slide_type": "subslide"
      }
     },
     "outputs": [
      {
       "output_type": "stream",
       "stream": "stdout",
       "text": [
        "---CYPCYYLAPCM\n",
        "   |||||||||||\n",
        "ATPCY--YYLAPCM\n",
        "  Score=9\n",
        "\n"
       ]
      }
     ],
     "prompt_number": 159
    },
    {
     "cell_type": "code",
     "collapsed": false,
     "input": [
      "alignments = align.localmx(human.seq[:80], mouse.seq[:80], 1, -2, one_alignment_only=True)\n",
      "for a in alignments:\n",
      "    print(format_alignment(*a))"
     ],
     "language": "python",
     "metadata": {
      "slideshow": {
       "slide_type": "subslide"
      }
     },
     "outputs": [
      {
       "output_type": "stream",
       "stream": "stdout",
       "text": [
        "MVHLTPEEKSAVTA---LWGKVNVDEVGGEALGRLLVVYPWTQRFFESFGDL-STPDAVMGNPKVKAHGKKVLGAFSDGLAHLD\n",
        "||||||||||||||||||||||||||||||||||||||||||||||||||||||||||||||||||||||||||||||||||||\n",
        "MVHLTPEEK---TAVTTLWGKVNVDEVGGEALGRLLVVYPWTQRFFDSFGDLSS-PDAVMGNPKVKAHGKKVLGAFSDGLNHLD\n",
        "  Score=70\n",
        "\n"
       ]
      }
     ],
     "prompt_number": 160
    },
    {
     "cell_type": "code",
     "collapsed": false,
     "input": [
      "alignments = align.localmx(human.seq[:70], rat.seq[:70], 1, -2, one_alignment_only=True)\n",
      "for a in alignments:\n",
      "    print(format_alignment(*a))"
     ],
     "language": "python",
     "metadata": {
      "slideshow": {
       "slide_type": "subslide"
      }
     },
     "outputs": [
      {
       "output_type": "stream",
       "stream": "stdout",
       "text": [
        "MVHLTPE-EKSAVTA---LWGKVNV---DEVGGEALGRLLVVYPWTQR-F--FESFGDL---STPDAVMGNPKVKAHGKKVLG\n",
        "|||||||||||||||||||||||||||||||||||||||||||||||||||||||||||||||||||||||||||||||||\n",
        "MVHLT-DAEK-A--AVNGLWGK--VNPDD-VGGEALGRLLVVYPWTQRYFDSF---GDLSSAS---AIMGNPKVKAHGKKVIN\n",
        "  Score=49\n",
        "\n"
       ]
      }
     ],
     "prompt_number": 161
    },
    {
     "cell_type": "markdown",
     "metadata": {
      "slideshow": {
       "slide_type": "slide"
      }
     },
     "source": [
      "## Multiple sequence alignments\n",
      "\n",
      "What if we want to generate a set of alignments that are all have maximum scores with respect to each other?"
     ]
    },
    {
     "cell_type": "code",
     "collapsed": false,
     "input": [
      "from Bio.Align.Applications import MuscleCommandline\n",
      "cline = MuscleCommandline(input='example_protein.fasta', \n",
      "                                             out='example_protein_aligned.fasta', \n",
      "                                             verbose=True)\n",
      "stdout, stderr = cline()\n",
      "print(stderr)"
     ],
     "language": "python",
     "metadata": {
      "slideshow": {
       "slide_type": "fragment"
      }
     },
     "outputs": [
      {
       "output_type": "stream",
       "stream": "stdout",
       "text": [
        "\n",
        "MUSCLE v3.8.31 by Robert C. Edgar\n",
        "\n",
        "http://www.drive5.com/muscle\n",
        "This software is donated to the public domain.\n",
        "Please cite: Edgar, R.C. Nucleic Acids Res 32(5), 1792-97.\n",
        "\n",
        "example_protein 3 seqs, max length 147, avg  length 147\n",
        "00:00:00      1 MB(0%)  Iter   1   16.67%  K-mer dist pass 1\n",
        "00:00:00      1 MB(0%)  Iter   1  100.00%  K-mer dist pass 1\n",
        "00:00:00      1 MB(0%)  Iter   1   16.67%  K-mer dist pass 2\n",
        "00:00:00      1 MB(0%)  Iter   1  100.00%  K-mer dist pass 2\n",
        "00:00:00      1 MB(0%)  Iter   1   50.00%  Align node       \n",
        "00:00:00      1 MB(0%)  Iter   1  100.00%  Align node\n",
        "00:00:00      1 MB(0%)  Iter   1  100.00%  Align node\n",
        "00:00:00      1 MB(0%)  Iter   1   33.33%  Root alignment\n",
        "00:00:00      1 MB(0%)  Iter   1   66.67%  Root alignment\n",
        "00:00:00      1 MB(0%)  Iter   1  100.00%  Root alignment\n",
        "00:00:00      1 MB(0%)  Iter   1  100.00%  Root alignment\n",
        "00:00:00      1 MB(0%)  Iter   2  100.00%  Root alignment\n",
        "00:00:00      1 MB(0%)  Iter   3   66.67%  Refine biparts\n",
        "00:00:00      1 MB(0%)  Iter   3  100.00%  Refine biparts\n",
        "00:00:00      1 MB(0%)  Iter   3  133.33%  Refine biparts\n",
        "00:00:00      1 MB(0%)  Iter   3  100.00%  Refine biparts\n",
        "00:00:00      1 MB(0%)  Iter   4   66.67%  Refine biparts\n",
        "00:00:00      1 MB(0%)  Iter   4  100.00%  Refine biparts\n",
        "00:00:00      1 MB(0%)  Iter   4  133.33%  Refine biparts\n",
        "00:00:00      1 MB(0%)  Iter   4  100.00%  Refine biparts\n",
        "00:00:00      1 MB(0%)  Iter   5   66.67%  Refine biparts\n",
        "00:00:00      1 MB(0%)  Iter   5  100.00%  Refine biparts\n",
        "00:00:00      1 MB(0%)  Iter   5  133.33%  Refine biparts\n",
        "00:00:00      1 MB(0%)  Iter   5  100.00%  Refine biparts\n",
        "00:00:00      1 MB(0%)  Iter   6   66.67%  Refine biparts\n",
        "00:00:00      1 MB(0%)  Iter   6  100.00%  Refine biparts\n",
        "00:00:00      1 MB(0%)  Iter   6  133.33%  Refine biparts\n",
        "00:00:00      1 MB(0%)  Iter   6  100.00%  Refine biparts\n",
        "\n"
       ]
      }
     ],
     "prompt_number": 181
    },
    {
     "cell_type": "markdown",
     "metadata": {
      "slideshow": {
       "slide_type": "subslide"
      }
     },
     "source": [
      "We can run several command-line programs using Bio.Align wrappers. Note that this is no different than running the tools outside of Python, but provides an easy way to script multiple jobs. Alignments can be run using `ProgramNameCommandline` wrappers, and the aligned sequences can be parsed back into Python using `Bio.AlignIO`:"
     ]
    },
    {
     "cell_type": "code",
     "collapsed": false,
     "input": [
      "from Bio import AlignIO\n",
      "multiple_alignments = AlignIO.read(cline.out, 'fasta')\n",
      "for alignment in multiple_alignments:\n",
      "    print(alignment.seq[:50])"
     ],
     "language": "python",
     "metadata": {
      "slideshow": {
       "slide_type": "fragment"
      }
     },
     "outputs": [
      {
       "output_type": "stream",
       "stream": "stdout",
       "text": [
        "MVHLTPEEKSAVTALWGKVNVDEVGGEALGRLLVVYPWTQRFFESFGDLS\n",
        "MVHLTPEEKTAVTTLWGKVNVDEVGGEALGRLLVVYPWTQRFFDSFGDLS\n",
        "MVHLTDAEKAAVNGLWGKVNPDDVGGEALGRLLVVYPWTQRYFDSFGDLS\n"
       ]
      }
     ],
     "prompt_number": 189
    },
    {
     "cell_type": "markdown",
     "metadata": {
      "slideshow": {
       "slide_type": "slide"
      }
     },
     "source": [
      "## BLAST search\n",
      "\n",
      "You can run a local BLAST search, similarly to the multiple alignment tools. Biopython also includes an interface to the NCBI BLAST server:"
     ]
    },
    {
     "cell_type": "code",
     "collapsed": false,
     "input": [
      "from Bio.Blast import NCBIWWW, NCBIXML\n",
      "print(seq_record.name)\n",
      "result_handle = NCBIWWW.qblast(\"blastp\", \"nr\", seq_record.seq)"
     ],
     "language": "python",
     "metadata": {
      "slideshow": {
       "slide_type": "fragment"
      }
     },
     "outputs": [
      {
       "output_type": "stream",
       "stream": "stdout",
       "text": [
        "AHX02571\n"
       ]
      }
     ],
     "prompt_number": 218
    },
    {
     "cell_type": "code",
     "collapsed": false,
     "input": [
      "blast_record = NCBIXML.read(result_handle)\n",
      "blast_record"
     ],
     "language": "python",
     "metadata": {
      "slideshow": {
       "slide_type": "fragment"
      }
     },
     "outputs": [
      {
       "metadata": {},
       "output_type": "pyout",
       "prompt_number": 219,
       "text": [
        "<Bio.Blast.Record.Blast at 0x1284239e8>"
       ]
      }
     ],
     "prompt_number": 219
    },
    {
     "cell_type": "code",
     "collapsed": false,
     "input": [
      "for alignment in blast_record.alignments:\n",
      "     for hsp in alignment.hsps:\n",
      "         print('****Alignment****')\n",
      "         print('sequence:', alignment.title)\n",
      "         print('length:', alignment.length)\n",
      "         print('e value:', hsp.expect)\n",
      "         print(hsp.query[0:75] + '...')\n",
      "         print(hsp.match[0:75] + '...')\n",
      "         print(hsp.sbjct[0:75] + '...')"
     ],
     "language": "python",
     "metadata": {
      "slideshow": {
       "slide_type": "subslide"
      }
     },
     "outputs": [
      {
       "output_type": "stream",
       "stream": "stdout",
       "text": [
        "****Alignment****\n",
        "sequence: gi|262214648|gb|ACY36439.1| cytochrome b [Crocidura beatus] >gi|262214650|gb|ACY36440.1| cytochrome b [Crocidura beatus] >gi|262214652|gb|ACY36441.1| cytochrome b [Crocidura beatus] >gi|262214654|gb|ACY36442.1| cytochrome b [Crocidura beatus] >gi|262214656|gb|ACY36443.1| cytochrome b [Crocidura beatus] >gi|262214674|gb|ACY36452.1| cytochrome b [Crocidura beatus] >gi|262214680|gb|ACY36455.1| cytochrome b [Crocidura beatus] >gi|262214732|gb|ACY36481.1| cytochrome b [Crocidura beatus] >gi|262214744|gb|ACY36487.1| cytochrome b [Crocidura beatus] >gi|262214754|gb|ACY36492.1| cytochrome b [Crocidura beatus] >gi|262214948|gb|ACY36589.1| cytochrome b [Crocidura beatus] >gi|262214950|gb|ACY36590.1| cytochrome b [Crocidura beatus] >gi|262214954|gb|ACY36592.1| cytochrome b [Crocidura beatus] >gi|262214956|gb|ACY36593.1| cytochrome b [Crocidura beatus] >gi|262214960|gb|ACY36595.1| cytochrome b [Crocidura beatus] >gi|262214968|gb|ACY36599.1| cytochrome b [Crocidura beatus] >gi|262214970|gb|ACY36600.1| cytochrome b [Crocidura beatus] >gi|262215004|gb|ACY36617.1| cytochrome b [Crocidura beatus] >gi|262215006|gb|ACY36618.1| cytochrome b [Crocidura beatus] >gi|262215012|gb|ACY36621.1| cytochrome b [Crocidura beatus] >gi|262215014|gb|ACY36622.1| cytochrome b [Crocidura beatus] >gi|262215016|gb|ACY36623.1| cytochrome b [Crocidura beatus] >gi|262215018|gb|ACY36624.1| cytochrome b [Crocidura beatus] >gi|262215020|gb|ACY36625.1| cytochrome b [Crocidura beatus] >gi|262215024|gb|ACY36627.1| cytochrome b [Crocidura beatus]\n",
        "length: 379\n",
        "e value: 0.0\n",
        "PSNISSWWNFGSLLGICLIAQILTGLFLAMHYTSDTMTAFSSVTHICRDVNYGWLIRYLHANGASMFFICLFLHV...\n",
        "PSNISSWWNFGSLLGICLIAQILTGLFLAMHYTSDTMTAFSSVTHICRDVNYGWLIRYLHANGASMFFICLFLHV...\n",
        "PSNISSWWNFGSLLGICLIAQILTGLFLAMHYTSDTMTAFSSVTHICRDVNYGWLIRYLHANGASMFFICLFLHV...\n",
        "****Alignment****\n",
        "sequence: gi|262214978|gb|ACY36604.1| cytochrome b [Crocidura beatus] >gi|262214998|gb|ACY36614.1| cytochrome b [Crocidura beatus]\n",
        "length: 358\n",
        "e value: 0.0\n",
        "PSNISSWWNFGSLLGICLIAQILTGLFLAMHYTSDTMTAFSSVTHICRDVNYGWLIRYLHANGASMFFICLFLHV...\n",
        "PSNISSWWNFGSLLGICLIAQILTGLFLAMHYTSDTMTAFSSVTHICRDVNYGWLIRYLHANGASMFFICLFLHV...\n",
        "PSNISSWWNFGSLLGICLIAQILTGLFLAMHYTSDTMTAFSSVTHICRDVNYGWLIRYLHANGASMFFICLFLHV...\n",
        "****Alignment****\n",
        "sequence: gi|262214986|gb|ACY36608.1| cytochrome b [Crocidura beatus] >gi|262215008|gb|ACY36619.1| cytochrome b [Crocidura beatus]\n",
        "length: 359\n",
        "e value: 0.0\n",
        "PSNISSWWNFGSLLGICLIAQILTGLFLAMHYTSDTMTAFSSVTHICRDVNYGWLIRYLHANGASMFFICLFLHV...\n",
        "PSNISSWWNFGSLLGICLIAQILTGLFLAMHYTSDTMTAFSSVTHICRDVNYGWLIRYLHANGASMFFICLFLHV...\n",
        "PSNISSWWNFGSLLGICLIAQILTGLFLAMHYTSDTMTAFSSVTHICRDVNYGWLIRYLHANGASMFFICLFLHV...\n",
        "****Alignment****\n",
        "sequence: gi|262214976|gb|ACY36603.1| cytochrome b [Crocidura beatus]\n",
        "length: 375\n",
        "e value: 0.0\n",
        "PSNISSWWNFGSLLGICLIAQILTGLFLAMHYTSDTMTAFSSVTHICRDVNYGWLIRYLHANGASMFFICLFLHV...\n",
        "PSNISSWWNFGSLLGICLIAQILTGLFLAMHYTSDTMTAFSSVTHICRDVNYGWLIRYLHANGASMFFICLFLHV...\n",
        "PSNISSWWNFGSLLGICLIAQILTGLFLAMHYTSDTMTAFSSVTHICRDVNYGWLIRYLHANGASMFFICLFLHV...\n",
        "****Alignment****\n",
        "sequence: gi|262215022|gb|ACY36626.1| cytochrome b [Crocidura beatus]\n",
        "length: 374\n",
        "e value: 0.0\n",
        "PSNISSWWNFGSLLGICLIAQILTGLFLAMHYTSDTMTAFSSVTHICRDVNYGWLIRYLHANGASMFFICLFLHV...\n",
        "PSNISSWWNFGSLLGICLIAQILTGLFLAMHYTSDTMTAFSSVTHICRDVNYGWLIRYLHANGASMFFICLFLHV...\n",
        "PSNISSWWNFGSLLGICLIAQILTGLFLAMHYTSDTMTAFSSVTHICRDVNYGWLIRYLHANGASMFFICLFLHV...\n",
        "****Alignment****\n",
        "sequence: gi|262215000|gb|ACY36615.1| cytochrome b [Crocidura beatus]\n",
        "length: 377\n",
        "e value: 0.0\n",
        "PSNISSWWNFGSLLGICLIAQILTGLFLAMHYTSDTMTAFSSVTHICRDVNYGWLIRYLHANGASMFFICLFLHV...\n",
        "PSNISSWWNFGSLLGICLIAQILTGLFLAMHYTSDTMTAFSSVTHICRDVNYGWLIRYLHANGASMFFICLFLHV...\n",
        "PSNISSWWNFGSLLGICLIAQILTGLFLAMHYTSDTMTAFSSVTHICRDVNYGWLIRYLHANGASMFFICLFLHV...\n",
        "****Alignment****\n",
        "sequence: gi|262215002|gb|ACY36616.1| cytochrome b [Crocidura beatus]\n",
        "length: 376\n",
        "e value: 0.0\n",
        "PSNISSWWNFGSLLGICLIAQILTGLFLAMHYTSDTMTAFSSVTHICRDVNYGWLIRYLHANGASMFFICLFLHV...\n",
        "PSNISSWWNFGSLLGICLIAQILTGLFLAMHYTSDTMTAFSSVTHICRDVNYGWLIRYLHANGASMFFICLFLHV...\n",
        "PSNISSWWNFGSLLGICLIAQILTGLFLAMHYTSDTMTAFSSVTHICRDVNYGWLIRYLHANGASMFFICLFLHV...\n",
        "****Alignment****\n",
        "sequence: gi|262214662|gb|ACY36446.1| cytochrome b [Crocidura beatus]\n",
        "length: 372\n",
        "e value: 0.0\n",
        "PSNISSWWNFGSLLGICLIAQILTGLFLAMHYTSDTMTAFSSVTHICRDVNYGWLIRYLHANGASMFFICLFLHV...\n",
        "PSNISSWWNFGSLLGICLIAQILTGLFLAMHYTSDTMTAFSSVTHICRDVNYGWLIRYLHANGASMFFICLFLHV...\n",
        "PSNISSWWNFGSLLGICLIAQILTGLFLAMHYTSDTMTAFSSVTHICRDVNYGWLIRYLHANGASMFFICLFLHV...\n",
        "****Alignment****\n",
        "sequence: gi|262214658|gb|ACY36444.1| cytochrome b [Crocidura beatus] >gi|262214660|gb|ACY36445.1| cytochrome b [Crocidura beatus] >gi|262214946|gb|ACY36588.1| cytochrome b [Crocidura beatus] >gi|262214952|gb|ACY36591.1| cytochrome b [Crocidura beatus] >gi|262214958|gb|ACY36594.1| cytochrome b [Crocidura beatus] >gi|262214962|gb|ACY36596.1| cytochrome b [Crocidura beatus] >gi|262214964|gb|ACY36597.1| cytochrome b [Crocidura beatus] >gi|262214966|gb|ACY36598.1| cytochrome b [Crocidura beatus] >gi|262214972|gb|ACY36601.1| cytochrome b [Crocidura beatus] >gi|262214974|gb|ACY36602.1| cytochrome b [Crocidura beatus]\n",
        "length: 379\n",
        "e value: 0.0\n",
        "PSNISSWWNFGSLLGICLIAQILTGLFLAMHYTSDTMTAFSSVTHICRDVNYGWLIRYLHANGASMFFICLFLHV...\n",
        "PSNISSWWNFGSLLGICLIAQILTGLFLAMHYTSDTMTAFSSVTHICRDVNYGWLIRYLHANGASMFFICLFLHV...\n",
        "PSNISSWWNFGSLLGICLIAQILTGLFLAMHYTSDTMTAFSSVTHICRDVNYGWLIRYLHANGASMFFICLFLHV...\n",
        "****Alignment****\n",
        "sequence: gi|262214870|gb|ACY36550.1| cytochrome b [Crocidura grayi halconus]\n",
        "length: 379\n",
        "e value: 0.0\n",
        "PSNISSWWNFGSLLGICLIAQILTGLFLAMHYTSDTMTAFSSVTHICRDVNYGWLIRYLHANGASMFFICLFLHV...\n",
        "PSNISSWWNFGSLLGICLIAQILTGLFLAMHYTSDTMTAFSSVTHICRDVNYGWLIRYLHANGASMFFICLFLHV...\n",
        "PSNISSWWNFGSLLGICLIAQILTGLFLAMHYTSDTMTAFSSVTHICRDVNYGWLIRYLHANGASMFFICLFLHV...\n",
        "****Alignment****\n",
        "sequence: gi|262214664|gb|ACY36447.1| cytochrome b [Crocidura grayi]\n",
        "length: 376\n",
        "e value: 0.0\n",
        "PSNISSWWNFGSLLGICLIAQILTGLFLAMHYTSDTMTAFSSVTHICRDVNYGWLIRYLHANGASMFFICLFLHV...\n",
        "PSNISSWWNFGSLLGICLIAQILTGLFLAMHYTSDTMTAFSSVTHICRDVNYGWLIRYLHANGASMFFICLFLHV...\n",
        "PSNISSWWNFGSLLGICLIAQILTGLFLAMHYTSDTMTAFSSVTHICRDVNYGWLIRYLHANGASMFFICLFLHV...\n",
        "****Alignment****\n",
        "sequence: gi|262214856|gb|ACY36543.1| cytochrome b [Crocidura grayi halconus]\n",
        "length: 378\n",
        "e value: 0.0\n",
        "PSNISSWWNFGSLLGICLIAQILTGLFLAMHYTSDTMTAFSSVTHICRDVNYGWLIRYLHANGASMFFICLFLHV...\n",
        "PSNISSWWNFGSLLGICLIAQILTGLFLAMHYTSDTMTAFSSVTHICRDVNYGWLIRYLHANGASMFFICLFLHV...\n",
        "PSNISSWWNFGSLLGICLIAQILTGLFLAMHYTSDTMTAFSSVTHICRDVNYGWLIRYLHANGASMFFICLFLHV...\n",
        "****Alignment****\n",
        "sequence: gi|262214646|gb|ACY36438.1| cytochrome b [Crocidura grayi halconus]\n",
        "length: 379\n",
        "e value: 0.0\n",
        "PSNISSWWNFGSLLGICLIAQILTGLFLAMHYTSDTMTAFSSVTHICRDVNYGWLIRYLHANGASMFFICLFLHV...\n",
        "PSNISSWWNFGSLLGICLIAQILTGLFLAMHYTSDTMTAFSSVTHICRDVNYGWLIRYLHANGASMFFICLFLHV...\n",
        "PSNISSWWNFGSLLGICLIAQILTGLFLAMHYTSDTMTAFSSVTHICRDVNYGWLIRYLHANGASMFFICLFLHV...\n",
        "****Alignment****\n",
        "sequence: gi|262214682|gb|ACY36456.1| cytochrome b [Crocidura grayi] >gi|262214704|gb|ACY36467.1| cytochrome b [Crocidura grayi] >gi|262214706|gb|ACY36468.1| cytochrome b [Crocidura grayi] >gi|262214708|gb|ACY36469.1| cytochrome b [Crocidura grayi] >gi|262214710|gb|ACY36470.1| cytochrome b [Crocidura grayi] >gi|262214712|gb|ACY36471.1| cytochrome b [Crocidura grayi] >gi|262214716|gb|ACY36473.1| cytochrome b [Crocidura grayi] >gi|262214718|gb|ACY36474.1| cytochrome b [Crocidura grayi] >gi|262214720|gb|ACY36475.1| cytochrome b [Crocidura grayi] >gi|262214722|gb|ACY36476.1| cytochrome b [Crocidura grayi] >gi|262214756|gb|ACY36493.1| cytochrome b [Crocidura grayi] >gi|262214760|gb|ACY36495.1| cytochrome b [Crocidura grayi] >gi|262214778|gb|ACY36504.1| cytochrome b [Crocidura grayi] >gi|262214780|gb|ACY36505.1| cytochrome b [Crocidura grayi] >gi|262214782|gb|ACY36506.1| cytochrome b [Crocidura grayi] >gi|262214790|gb|ACY36510.1| cytochrome b [Crocidura palawanensis] >gi|262214796|gb|ACY36513.1| cytochrome b [Crocidura palawanensis] >gi|262214802|gb|ACY36516.1| cytochrome b [Crocidura palawanensis] >gi|262214808|gb|ACY36519.1| cytochrome b [Crocidura palawanensis] >gi|262214816|gb|ACY36523.1| cytochrome b [Crocidura palawanensis] >gi|262214818|gb|ACY36524.1| cytochrome b [Crocidura palawanensis] >gi|262214820|gb|ACY36525.1| cytochrome b [Crocidura palawanensis] >gi|262214822|gb|ACY36526.1| cytochrome b [Crocidura palawanensis] >gi|262214850|gb|ACY36540.1| cytochrome b [Crocidura grayi halconus] >gi|262214852|gb|ACY36541.1| cytochrome b [Crocidura grayi halconus] >gi|262214854|gb|ACY36542.1| cytochrome b [Crocidura grayi halconus] >gi|262214858|gb|ACY36544.1| cytochrome b [Crocidura grayi halconus] >gi|262214860|gb|ACY36545.1| cytochrome b [Crocidura grayi halconus] >gi|262214862|gb|ACY36546.1| cytochrome b [Crocidura grayi halconus] >gi|262214864|gb|ACY36547.1| cytochrome b [Crocidura grayi halconus] >gi|262214866|gb|ACY36548.1| cytochrome b [Crocidura grayi halconus] >gi|262214868|gb|ACY36549.1| cytochrome b [Crocidura grayi halconus] >gi|262214914|gb|ACY36572.1| cytochrome b [Crocidura grayi halconus] >gi|262214918|gb|ACY36574.1| cytochrome b [Crocidura grayi halconus] >gi|262214920|gb|ACY36575.1| cytochrome b [Crocidura grayi halconus] >gi|262214942|gb|ACY36586.1| cytochrome b [Crocidura palawanensis] >gi|262214944|gb|ACY36587.1| cytochrome b [Crocidura grayi halconus]\n",
        "length: 379\n",
        "e value: 0.0\n",
        "PSNISSWWNFGSLLGICLIAQILTGLFLAMHYTSDTMTAFSSVTHICRDVNYGWLIRYLHANGASMFFICLFLHV...\n",
        "PSNISSWWNFGSLLGICLIAQILTGLFLAMHYTSDTMTAFSSVTHICRDVNYGWLIRYLHANGASMFFICLFLHV...\n",
        "PSNISSWWNFGSLLGICLIAQILTGLFLAMHYTSDTMTAFSSVTHICRDVNYGWLIRYLHANGASMFFICLFLHV...\n",
        "****Alignment****\n",
        "sequence: gi|262214992|gb|ACY36611.1| cytochrome b [Crocidura beatus] >gi|262214994|gb|ACY36612.1| cytochrome b [Crocidura beatus]\n",
        "length: 379\n",
        "e value: 0.0\n",
        "PSNISSWWNFGSLLGICLIAQILTGLFLAMHYTSDTMTAFSSVTHICRDVNYGWLIRYLHANGASMFFICLFLHV...\n",
        "PSNISSWWNFGSLLGICLIAQILTGLFLAMHYTSDTMTAFSSVTHICRDVNYGWLIRYLHANGASMFFICLFLHV...\n",
        "PSNISSWWNFGSLLGICLIAQILTGLFLAMHYTSDTMTAFSSVTHICRDVNYGWLIRYLHANGASMFFICLFLHV...\n",
        "****Alignment****\n",
        "sequence: gi|262214784|gb|ACY36507.1| cytochrome b [Crocidura grayi]\n",
        "length: 372\n",
        "e value: 0.0\n",
        "PSNISSWWNFGSLLGICLIAQILTGLFLAMHYTSDTMTAFSSVTHICRDVNYGWLIRYLHANGASMFFICLFLHV...\n",
        "PSNISSWWNFGSLLGICLIAQILTGLFLAMHYTSDTMTAFSSVTHICRDVNYGWLIRYLHANGASMFFICLFLHV...\n",
        "PSNISSWWNFGSLLGICLIAQILTGLFLAMHYTSDTMTAFSSVTHICRDVNYGWLIRYLHANGASMFFICLFLHV...\n",
        "****Alignment****\n",
        "sequence: gi|262214826|gb|ACY36528.1| cytochrome b [Crocidura palawanensis]\n",
        "length: 374\n",
        "e value: 0.0\n",
        "PSNISSWWNFGSLLGICLIAQILTGLFLAMHYTSDTMTAFSSVTHICRDVNYGWLIRYLHANGASMFFICLFLHV...\n",
        "PSNISSWWNFGSLLGICLIAQILTGLFLAMHYTSDTMTAFSSVTHICRDVNYGWLIRYLHANGASMFFICLFLHV...\n",
        "PSNISSWWNFGSLLGICLIAQILTGLFLAMHYTSDTMTAFSSVTHICRDVNYGWLIRYLHANGASMFFICLFLHV...\n",
        "****Alignment****\n",
        "sequence: gi|262214832|gb|ACY36531.1| cytochrome b [Crocidura palawanensis]\n",
        "length: 377\n",
        "e value: 0.0\n",
        "PSNISSWWNFGSLLGICLIAQILTGLFLAMHYTSDTMTAFSSVTHICRDVNYGWLIRYLHANGASMFFICLFLHV...\n",
        "PSNISSWWNFGSLLGICLIAQILTGLFLAMHYTSDTMTAFSSVTHICRDVNYGWLIRYLHANGASMFFICLFLHV...\n",
        "PSNISSWWNFGSLLGICLIAQILTGLFLAMHYTSDTMTAFSSVTHICRDVNYGWLIRYLHANGASMFFICLFLHV...\n",
        "****Alignment****\n",
        "sequence: gi|262214990|gb|ACY36610.1| cytochrome b [Crocidura beatus] >gi|262214996|gb|ACY36613.1| cytochrome b [Crocidura beatus]\n",
        "length: 359\n",
        "e value: 0.0\n",
        "PSNISSWWNFGSLLGICLIAQILTGLFLAMHYTSDTMTAFSSVTHICRDVNYGWLIRYLHANGASMFFICLFLHV...\n",
        "PSNISSWWNFGSLLGICLIAQILTGLFLAMHYTSDTMTAFSSVTHICRDVNYGWLIRYLHANGASMFFICLFLHV...\n",
        "PSNISSWWNFGSLLGICLIAQILTGLFLAMHYTSDTMTAFSSVTHICRDVNYGWLIRYLHANGASMFFICLFLHV...\n",
        "****Alignment****\n",
        "sequence: gi|262214672|gb|ACY36451.1| cytochrome b [Crocidura mindorus] >gi|262214874|gb|ACY36552.1| cytochrome b [Crocidura panayensis] >gi|262214878|gb|ACY36554.1| cytochrome b [Crocidura panayensis] >gi|262214880|gb|ACY36555.1| cytochrome b [Crocidura panayensis] >gi|262214882|gb|ACY36556.1| cytochrome b [Crocidura panayensis] >gi|262214886|gb|ACY36558.1| cytochrome b [Crocidura panayensis]\n",
        "length: 379\n",
        "e value: 0.0\n",
        "PSNISSWWNFGSLLGICLIAQILTGLFLAMHYTSDTMTAFSSVTHICRDVNYGWLIRYLHANGASMFFICLFLHV...\n",
        "PSNISSWWNFGSLLGICLIAQILTGLFLAMHYTSDTMTAFSSVTHICRDVNYGWLIRYLHANGASMFFICLFLHV...\n",
        "PSNISSWWNFGSLLGICLIAQILTGLFLAMHYTSDTMTAFSSVTHICRDVNYGWLIRYLHANGASMFFICLFLHV...\n",
        "****Alignment****\n",
        "sequence: gi|262214830|gb|ACY36530.1| cytochrome b [Crocidura palawanensis]\n",
        "length: 372\n",
        "e value: 0.0\n",
        "PSNISSWWNFGSLLGICLIAQILTGLFLAMHYTSDTMTAFSSVTHICRDVNYGWLIRYLHANGASMFFICLFLHV...\n",
        "PSNISSWWNFGSLLGICLIAQILTGLFLAMHYTSDTMTAFSSVTHICRDVNYGWLIRYLHANGASMFFICLFLHV...\n",
        "PSNISSWWNFGSLLGICLIAQILTGLFLAMHYTSDTMTAFSSVTHICRDVNYGWLIRYLHANGASMFFICLFLHV...\n",
        "****Alignment****\n",
        "sequence: gi|262214988|gb|ACY36609.1| cytochrome b [Crocidura beatus]\n",
        "length: 358\n",
        "e value: 0.0\n",
        "PSNISSWWNFGSLLGICLIAQILTGLFLAMHYTSDTMTAFSSVTHICRDVNYGWLIRYLHANGASMFFICLFLHV...\n",
        "PSNISSWWNFGSLLGICLIAQILTGLFLAMHYTSDTMTAFSSVTHICRDVNYGWLIRYLHANGASMFFICLFLHV...\n",
        "PSNISSWWNFGSLLGICLIAQILTGLFLAMHYTSDTMTAFSSVTHICRDVNYGWLIRYLHANGASMFFICLFLHV...\n",
        "****Alignment****\n",
        "sequence: gi|262214786|gb|ACY36508.1| cytochrome b [Crocidura grayi]\n",
        "length: 379\n",
        "e value: 0.0\n",
        "PSNISSWWNFGSLLGICLIAQILTGLFLAMHYTSDTMTAFSSVTHICRDVNYGWLIRYLHANGASMFFICLFLHV...\n",
        "PSNISSWWNFGSLLGICLIAQILTGLFLAMHYTSDTMTAFSSVTHICRDVNYGWLIRYLHANGASMFFICLFLHV...\n",
        "PSNISSWWNFGSLLGICLIAQILTGLFLAMHYTSDTMTAFSSVTHICRDVNYGWLIRYLHANGASMFFICLFLHV...\n",
        "****Alignment****\n",
        "sequence: gi|262214714|gb|ACY36472.1| cytochrome b [Crocidura grayi]\n",
        "length: 379\n",
        "e value: 0.0\n",
        "PSNISSWWNFGSLLGICLIAQILTGLFLAMHYTSDTMTAFSSVTHICRDVNYGWLIRYLHANGASMFFICLFLHV...\n",
        "PSNISSWWNFGSLLGICLIAQILTGLFLAMHYTSDTMTAFSSVTHICRDVNYGWLIRYLHANGASMFFICLFLHV...\n",
        "PSNISSWWNFGSLLGICLIAQILTGLFLAMHYTSDTMTAFSSVTHICRDVNYGWLIRYLHANGASMFFICLFLHV...\n",
        "****Alignment****\n",
        "sequence: gi|262215010|gb|ACY36620.1| cytochrome b [Crocidura beatus]\n",
        "length: 355\n",
        "e value: 0.0\n",
        "SNISSWWNFGSLLGICLIAQILTGLFLAMHYTSDTMTAFSSVTHICRDVNYGWLIRYLHANGASMFFICLFLHVG...\n",
        "SNISSWWNFGSLLGICLIAQILTGLFLAMHYTSDTMTAFSSVTHICRDVNYGWLIRYLHANGASMFFICLFLHVG...\n",
        "SNISSWWNFGSLLGICLIAQILTGLFLAMHYTSDTMTAFSSVTHICRDVNYGWLIRYLHANGASMFFICLFLHVG...\n",
        "****Alignment****\n",
        "sequence: gi|262214764|gb|ACY36497.1| cytochrome b [Crocidura grayi] >gi|262214772|gb|ACY36501.1| cytochrome b [Crocidura grayi]\n",
        "length: 377\n",
        "e value: 0.0\n",
        "PSNISSWWNFGSLLGICLIAQILTGLFLAMHYTSDTMTAFSSVTHICRDVNYGWLIRYLHANGASMFFICLFLHV...\n",
        "PSNISSWWNFGSLLGICLIAQILTGLFLAMHYTSDTMTAFSSVTHICRDVNYGWLIRYLHANGASMFFICLFLHV...\n",
        "PSNISSWWNFGSLLGICLIAQILTGLFLAMHYTSDTMTAFSSVTHICRDVNYGWLIRYLHANGASMFFICLFLHV...\n",
        "****Alignment****\n",
        "sequence: gi|262214762|gb|ACY36496.1| cytochrome b [Crocidura grayi] >gi|262214770|gb|ACY36500.1| cytochrome b [Crocidura grayi] >gi|262214774|gb|ACY36502.1| cytochrome b [Crocidura grayi] >gi|262214776|gb|ACY36503.1| cytochrome b [Crocidura grayi]\n",
        "length: 379\n",
        "e value: 0.0\n",
        "PSNISSWWNFGSLLGICLIAQILTGLFLAMHYTSDTMTAFSSVTHICRDVNYGWLIRYLHANGASMFFICLFLHV...\n",
        "PSNISSWWNFGSLLGICLIAQILTGLFLAMHYTSDTMTAFSSVTHICRDVNYGWLIRYLHANGASMFFICLFLHV...\n",
        "PSNISSWWNFGSLLGICLIAQILTGLFLAMHYTSDTMTAFSSVTHICRDVNYGWLIRYLHANGASMFFICLFLHV...\n",
        "****Alignment****\n",
        "sequence: gi|262214984|gb|ACY36607.1| cytochrome b [Crocidura beatus]\n",
        "length: 356\n",
        "e value: 0.0\n",
        "PSNISSWWNFGSLLGICLIAQILTGLFLAMHYTSDTMTAFSSVTHICRDVNYGWLIRYLHANGASMFFICLFLHV...\n",
        "PSNISSWWN GSLLGICLIAQILTGLFLAMHYTSDTMTAFSSVTHICRDVNYGWLIRYLHANGASMFFICLFLHV...\n",
        "PSNISSWWNXGSLLGICLIAQILTGLFLAMHYTSDTMTAFSSVTHICRDVNYGWLIRYLHANGASMFFICLFLHV...\n",
        "****Alignment****\n",
        "sequence: gi|555301370|gb|AGZ14516.1| cytochrome b, partial (mitochondrion) [Crocidura orientalis] >gi|555301372|gb|AGZ14517.1| cytochrome b, partial (mitochondrion) [Crocidura orientalis]\n",
        "length: 357\n",
        "e value: 0.0\n",
        "PSNISSWWNFGSLLGICLIAQILTGLFLAMHYTSDTMTAFSSVTHICRDVNYGWLIRYLHANGASMFFICLFLHV...\n",
        "PSNISSWWNFGSLLGICLIAQILTGLFLAMHYTSDTMTAFSSVTHICRDVNYGWLIRYLHANGASMFFICLFLHV...\n",
        "PSNISSWWNFGSLLGICLIAQILTGLFLAMHYTSDTMTAFSSVTHICRDVNYGWLIRYLHANGASMFFICLFLHV...\n",
        "****Alignment****\n",
        "sequence: gi|555301276|gb|AGZ14469.1| cytochrome b, partial (mitochondrion) [Crocidura orientalis]\n",
        "length: 369\n",
        "e value: 0.0\n",
        "PSNISSWWNFGSLLGICLIAQILTGLFLAMHYTSDTMTAFSSVTHICRDVNYGWLIRYLHANGASMFFICLFLHV...\n",
        "PSNISSWWNFGSLLGICLIAQILTGLFLAMHYTSDTMTAFSSVTHICRDVNYGWLIRYLHANGASMFFICLFLHV...\n",
        "PSNISSWWNFGSLLGICLIAQILTGLFLAMHYTSDTMTAFSSVTHICRDVNYGWLIRYLHANGASMFFICLFLHV...\n",
        "****Alignment****\n",
        "sequence: gi|262214726|gb|ACY36478.1| cytochrome b [Crocidura grayi] >gi|262214766|gb|ACY36498.1| cytochrome b [Crocidura grayi] >gi|262214768|gb|ACY36499.1| cytochrome b [Crocidura grayi]\n",
        "length: 379\n",
        "e value: 0.0\n",
        "PSNISSWWNFGSLLGICLIAQILTGLFLAMHYTSDTMTAFSSVTHICRDVNYGWLIRYLHANGASMFFICLFLHV...\n",
        "PSNISSWWNFGSLLGICLIAQILTGLFLAMHYTSDTMTAFSSVTHICRDVNYGWLIRYLHANGASMFFICLFLHV...\n",
        "PSNISSWWNFGSLLGICLIAQILTGLFLAMHYTSDTMTAFSSVTHICRDVNYGWLIRYLHANGASMFFICLFLHV...\n",
        "****Alignment****\n",
        "sequence: gi|262214678|gb|ACY36454.1| cytochrome b [Crocidura beatus]\n",
        "length: 379\n",
        "e value: 0.0\n",
        "PSNISSWWNFGSLLGICLIAQILTGLFLAMHYTSDTMTAFSSVTHICRDVNYGWLIRYLHANGASMFFICLFLHV...\n",
        "PSNISSWWNFGSLLGICLIAQILTGLFLAMHYTSDTMTAFSSVTHICRDVNYGWLIRYLHANGASMFFICLFLHV...\n",
        "PSNISSWWNFGSLLGICLIAQILTGLFLAMHYTSDTMTAFSSVTHICRDVNYGWLIRYLHANGASMFFICLFLHV...\n",
        "****Alignment****\n",
        "sequence: gi|262215084|gb|ACY36657.1| cytochrome b [Crocidura grayi]\n",
        "length: 379\n",
        "e value: 0.0\n",
        "PSNISSWWNFGSLLGICLIAQILTGLFLAMHYTSDTMTAFSSVTHICRDVNYGWLIRYLHANGASMFFICLFLHV...\n",
        "PSNISSWWNFGSLLGICLIAQILTGLFLAMHYTSDTMTAFSSVTHICRDVNYGWLIRYLHANGASMFFICLFLHV...\n",
        "PSNISSWWNFGSLLGICLIAQILTGLFLAMHYTSDTMTAFSSVTHICRDVNYGWLIRYLHANGASMFFICLFLHV...\n",
        "****Alignment****\n",
        "sequence: gi|262215082|gb|ACY36656.1| cytochrome b [Crocidura grayi]\n",
        "length: 376\n",
        "e value: 0.0\n",
        "PSNISSWWNFGSLLGICLIAQILTGLFLAMHYTSDTMTAFSSVTHICRDVNYGWLIRYLHANGASMFFICLFLHV...\n",
        "PSNISSWWNFGSLLGICLIAQILTGLFLAMHYTSDTMTAFSSVTHICRDVNYGWLIRYLHANGASMFFICLFLHV...\n",
        "PSNISSWWNFGSLLGICLIAQILTGLFLAMHYTSDTMTAFSSVTHICRDVNYGWLIRYLHANGASMFFICLFLHV...\n",
        "****Alignment****\n",
        "sequence: gi|262214690|gb|ACY36460.1| cytochrome b [Crocidura grayi]\n",
        "length: 379\n",
        "e value: 0.0\n",
        "PSNISSWWNFGSLLGICLIAQILTGLFLAMHYTSDTMTAFSSVTHICRDVNYGWLIRYLHANGASMFFICLFLHV...\n",
        "PSNISSWWNFGSLLGICLIAQILTGLFLAMHYTSDTMTAFSSVTHICRDVNYGWLIRYLHANGASMFFICLFLHV...\n",
        "PSNISSWWNFGSLLGICLIAQILTGLFLAMHYTSDTMTAFSSVTHICRDVNYGWLIRYLHANGASMFFICLFLHV...\n",
        "****Alignment****\n",
        "sequence: gi|555301376|gb|AGZ14519.1| cytochrome b, partial (mitochondrion) [Crocidura orientalis] >gi|555301378|gb|AGZ14520.1| cytochrome b, partial (mitochondrion) [Crocidura orientalis] >gi|555301384|gb|AGZ14523.1| cytochrome b, partial (mitochondrion) [Crocidura orientalis] >gi|555301386|gb|AGZ14524.1| cytochrome b, partial (mitochondrion) [Crocidura orientalis] >gi|555301388|gb|AGZ14525.1| cytochrome b, partial (mitochondrion) [Crocidura orientalis] >gi|555301390|gb|AGZ14526.1| cytochrome b, partial (mitochondrion) [Crocidura orientalis] >gi|555301392|gb|AGZ14527.1| cytochrome b, partial (mitochondrion) [Crocidura orientalis] >gi|555301394|gb|AGZ14528.1| cytochrome b, partial (mitochondrion) [Crocidura orientalis] >gi|555301396|gb|AGZ14529.1| cytochrome b, partial (mitochondrion) [Crocidura orientalis]\n",
        "length: 369\n",
        "e value: 0.0\n",
        "PSNISSWWNFGSLLGICLIAQILTGLFLAMHYTSDTMTAFSSVTHICRDVNYGWLIRYLHANGASMFFICLFLHV...\n",
        "PSNISSWWNFGSLLGICLIAQILTGLFLAMHYTSDTMTAFSSVTHICRDVNYGWLIRYLHANGASMFFICLFLHV...\n",
        "PSNISSWWNFGSLLGICLIAQILTGLFLAMHYTSDTMTAFSSVTHICRDVNYGWLIRYLHANGASMFFICLFLHV...\n",
        "****Alignment****\n",
        "sequence: gi|262214746|gb|ACY36488.1| cytochrome b [Crocidura grayi] >gi|262214748|gb|ACY36489.1| cytochrome b [Crocidura grayi] >gi|262214750|gb|ACY36490.1| cytochrome b [Crocidura grayi] >gi|262214752|gb|ACY36491.1| cytochrome b [Crocidura grayi]\n",
        "length: 379\n",
        "e value: 0.0\n",
        "PSNISSWWNFGSLLGICLIAQILTGLFLAMHYTSDTMTAFSSVTHICRDVNYGWLIRYLHANGASMFFICLFLHV...\n",
        "PSNISSWWNFGSLLGICLIAQILTGLFLAMHYTSDTMTAFSSVTHICRDVNYGWLIRYLHANGASMFFICLFLHV...\n",
        "PSNISSWWNFGSLLGICLIAQILTGLFLAMHYTSDTMTAFSSVTHICRDVNYGWLIRYLHANGASMFFICLFLHV...\n",
        "****Alignment****\n",
        "sequence: gi|262215088|gb|ACY36659.1| cytochrome b [Crocidura grayi]\n",
        "length: 379\n",
        "e value: 0.0\n",
        "PSNISSWWNFGSLLGICLIAQILTGLFLAMHYTSDTMTAFSSVTHICRDVNYGWLIRYLHANGASMFFICLFLHV...\n",
        "PSNISSWWNFGSLLGICLIAQILTGLFLAMHYTSDTMTAFSSVTHICRDVNYGWLIRYLHANGASMFFICLFLHV...\n",
        "PSNISSWWNFGSLLGICLIAQILTGLFLAMHYTSDTMTAFSSVTHICRDVNYGWLIRYLHANGASMFFICLFLHV...\n",
        "****Alignment****\n",
        "sequence: gi|262214734|gb|ACY36482.1| cytochrome b [Crocidura grayi] >gi|262214736|gb|ACY36483.1| cytochrome b [Crocidura grayi] >gi|262214740|gb|ACY36485.1| cytochrome b [Crocidura grayi] >gi|262214742|gb|ACY36486.1| cytochrome b [Crocidura grayi]\n",
        "length: 379\n",
        "e value: 0.0\n",
        "PSNISSWWNFGSLLGICLIAQILTGLFLAMHYTSDTMTAFSSVTHICRDVNYGWLIRYLHANGASMFFICLFLHV...\n",
        "PSNISSWWNFGSLLGICLIAQILTGLFLAMHYTSDTMTAFSSVTHICRDVNYGWLIRYLHANGASMFFICLFLHV...\n",
        "PSNISSWWNFGSLLGICLIAQILTGLFLAMHYTSDTMTAFSSVTHICRDVNYGWLIRYLHANGASMFFICLFLHV...\n",
        "****Alignment****\n",
        "sequence: gi|262214692|gb|ACY36461.1| cytochrome b [Crocidura grayi] >gi|262214694|gb|ACY36462.1| cytochrome b [Crocidura grayi] >gi|262214698|gb|ACY36464.1| cytochrome b [Crocidura grayi] >gi|262214702|gb|ACY36466.1| cytochrome b [Crocidura grayi] >gi|262214728|gb|ACY36479.1| cytochrome b [Crocidura grayi]\n",
        "length: 379\n",
        "e value: 0.0\n",
        "PSNISSWWNFGSLLGICLIAQILTGLFLAMHYTSDTMTAFSSVTHICRDVNYGWLIRYLHANGASMFFICLFLHV...\n",
        "PSNISSWWNFGSLLGICLIAQILTGLFLAMHYTSDTMTAFSSVTHICRDVNYGWLIRYLHANGASMFFICLFLHV...\n",
        "PSNISSWWNFGSLLGICLIAQILTGLFLAMHYTSDTMTAFSSVTHICRDVNYGWLIRYLHANGASMFFICLFLHV...\n",
        "****Alignment****\n",
        "sequence: gi|262214982|gb|ACY36606.1| cytochrome b [Crocidura beatus]\n",
        "length: 358\n",
        "e value: 0.0\n",
        "PSNISSWWNFGSLLGICLIAQILTGLFLAMHYTSDTMTAFSSVTHICRDVNYGWLIRYLHANGASMFFICLFLHV...\n",
        "PSNISSWWNFGSLLGICLIAQILTGLFLAMHYTSDTMTAFSSVTHICRDVNYGWLIRYLHANGASMFFICLFLHV...\n",
        "PSNISSWWNFGSLLGICLIAQILTGLFLAMHYTSDTMTAFSSVTHICRDVNYGWLIRYLHANGASMFFICLFLHV...\n",
        "****Alignment****\n",
        "sequence: gi|262215090|gb|ACY36660.1| cytochrome b [Crocidura grayi]\n",
        "length: 377\n",
        "e value: 0.0\n",
        "PSNISSWWNFGSLLGICLIAQILTGLFLAMHYTSDTMTAFSSVTHICRDVNYGWLIRYLHANGASMFFICLFLHV...\n",
        "PSNISSWWNFGSLLGICLIAQILTGLFLAMHYTSDTMTAFSSVTHICRDVNYGWLIRYLHANGASMFFICLFLHV...\n",
        "PSNISSWWNFGSLLGICLIAQILTGLFLAMHYTSDTMTAFSSVTHICRDVNYGWLIRYLHANGASMFFICLFLHV...\n",
        "****Alignment****\n",
        "sequence: gi|262214888|gb|ACY36559.1| cytochrome b [Crocidura negrina] >gi|262214890|gb|ACY36560.1| cytochrome b [Crocidura negrina] >gi|262214892|gb|ACY36561.1| cytochrome b [Crocidura negrina] >gi|262214894|gb|ACY36562.1| cytochrome b [Crocidura negrina] >gi|262214896|gb|ACY36563.1| cytochrome b [Crocidura negrina] >gi|262214898|gb|ACY36564.1| cytochrome b [Crocidura negrina] >gi|262214900|gb|ACY36565.1| cytochrome b [Crocidura negrina] >gi|262214902|gb|ACY36566.1| cytochrome b [Crocidura negrina] >gi|262214904|gb|ACY36567.1| cytochrome b [Crocidura negrina] >gi|262214906|gb|ACY36568.1| cytochrome b [Crocidura negrina] >gi|262214908|gb|ACY36569.1| cytochrome b [Crocidura negrina] >gi|262214910|gb|ACY36570.1| cytochrome b [Crocidura negrina]\n",
        "length: 379\n",
        "e value: 0.0\n",
        "PSNISSWWNFGSLLGICLIAQILTGLFLAMHYTSDTMTAFSSVTHICRDVNYGWLIRYLHANGASMFFICLFLHV...\n",
        "PSNISSWWNFGSLLGICLIAQILTGLFLAMHYTSDTMTAFSSVTHICRDVNYGWLIRYLHANGASMFFICLFLHV...\n",
        "PSNISSWWNFGSLLGICLIAQILTGLFLAMHYTSDTMTAFSSVTHICRDVNYGWLIRYLHANGASMFFICLFLHV...\n",
        "****Alignment****\n",
        "sequence: gi|262214724|gb|ACY36477.1| cytochrome b [Crocidura grayi]\n",
        "length: 379\n",
        "e value: 0.0\n",
        "PSNISSWWNFGSLLGICLIAQILTGLFLAMHYTSDTMTAFSSVTHICRDVNYGWLIRYLHANGASMFFICLFLHV...\n",
        "PSNISSWWNFGSLLGICLIAQILTGLFLAMHYTSDTMTAFSSVTHICRDVNYGWLIRYLHANGASMFFICLFLHV...\n",
        "PSNISSWWNFGSLLGICLIAQILTGLFLAMHYTSDTMTAFSSVTHICRDVNYGWLIRYLHANGASMFFICLFLHV...\n",
        "****Alignment****\n",
        "sequence: gi|262214758|gb|ACY36494.1| cytochrome b [Crocidura grayi]\n",
        "length: 379\n",
        "e value: 0.0\n",
        "PSNISSWWNFGSLLGICLIAQILTGLFLAMHYTSDTMTAFSSVTHICRDVNYGWLIRYLHANGASMFFICLFLHV...\n",
        "PSNISSWWNFGSLLGICLIAQILTGLFLAMHYTSDTMTAFSSVTHICRDVNYGWLIRYLHANGASMFFICLFLHV...\n",
        "PSNISSWWNFGSLLGICLIAQILTGLFLAMHYTSDTMTAFSSVTHICRDVNYGWLIRYLHANGASMFFICLFLHV...\n",
        "****Alignment****\n",
        "sequence: gi|262215086|gb|ACY36658.1| cytochrome b [Crocidura grayi]\n",
        "length: 372\n",
        "e value: 0.0\n",
        "PSNISSWWNFGSLLGICLIAQILTGLFLAMHYTSDTMTAFSSVTHICRDVNYGWLIRYLHANGASMFFICLFLHV...\n",
        "PSNISSWWNFGSLLGICLIAQILTGLFLAMHYTSDTMTAFSSVTHICRDVNYGWLIRYLHANGASMFFICLFLHV...\n",
        "PSNISSWWNFGSLLGICLIAQILTGLFLAMHYTSDTMTAFSSVTHICRDVNYGWLIRYLHANGASMFFICLFLHV...\n",
        "****Alignment****\n",
        "sequence: gi|262215044|gb|ACY36637.1| cytochrome b [Crocidura orientalis]\n",
        "length: 379\n",
        "e value: 0.0\n",
        "PSNISSWWNFGSLLGICLIAQILTGLFLAMHYTSDTMTAFSSVTHICRDVNYGWLIRYLHANGASMFFICLFLHV...\n",
        "PSNISSWWNFGSLLGICLIAQILTGLFLAMHYTSDTMTAFSSVTHICRDVNYGWLIRYLHANGASMFFICLFLHV...\n",
        "PSNISSWWNFGSLLGICLIAQILTGLFLAMHYTSDTMTAFSSVTHICRDVNYGWLIRYLHANGASMFFICLFLHV...\n",
        "****Alignment****\n",
        "sequence: gi|262214838|gb|ACY36534.1| cytochrome b [Crocidura nigripes] >gi|262214842|gb|ACY36536.1| cytochrome b [Crocidura nigripes]\n",
        "length: 379\n",
        "e value: 0.0\n",
        "PSNISSWWNFGSLLGICLIAQILTGLFLAMHYTSDTMTAFSSVTHICRDVNYGWLIRYLHANGASMFFICLFLHV...\n",
        "PSNISSWWNFGSLLGICLIAQILTGLFLAMHYTSDTMTAFSSVTHICRDVNYGWLIRYLHANGASMFFICLFLHV...\n",
        "PSNISSWWNFGSLLGICLIAQILTGLFLAMHYTSDTMTAFSSVTHICRDVNYGWLIRYLHANGASMFFICLFLHV...\n",
        "****Alignment****\n",
        "sequence: gi|262214666|gb|ACY36448.1| cytochrome b [Crocidura mindorus]\n",
        "length: 379\n",
        "e value: 0.0\n",
        "PSNISSWWNFGSLLGICLIAQILTGLFLAMHYTSDTMTAFSSVTHICRDVNYGWLIRYLHANGASMFFICLFLHV...\n",
        "PSNISSWWNFGSLLGICLIAQILTGLFLAMHYTSDTMTAFSSVTHICRDVNYGWLIRYLHANGASMFFICLFLHV...\n",
        "PSNISSWWNFGSLLGICLIAQILTGLFLAMHYTSDTMTAFSSVTHICRDVNYGWLIRYLHANGASMFFICLFLHV...\n",
        "****Alignment****\n",
        "sequence: gi|262214676|gb|ACY36453.1| cytochrome b [Crocidura beatus]\n",
        "length: 379\n",
        "e value: 0.0\n",
        "PSNISSWWNFGSLLGICLIAQILTGLFLAMHYTSDTMTAFSSVTHICRDVNYGWLIRYLHANGASMFFICLFLHV...\n",
        "PSNISSWWNFGSLLGICLIAQILTGLFLAMHYTSDTMTAFSSVTHICRDVNYGWLIRYLHANGASMFFICLFLHV...\n",
        "PSNISSWWNFGSLLGICLIAQILTGLFLAMHYTSDTMTAFSSVTHICRDVNYGWLIRYLHANGASMFFICLFLHV...\n"
       ]
      }
     ],
     "prompt_number": 221
    },
    {
     "cell_type": "markdown",
     "metadata": {
      "slideshow": {
       "slide_type": "slide"
      }
     },
     "source": [
      "These are far from the only things you can do with Biopython, just take a look at the tutorial if you have questions: http://biopython.org/DIST/docs/tutorial/Tutorial.html.\n",
      "\n",
      "## Any Questions?"
     ]
    }
   ],
   "metadata": {}
  }
 ]
}